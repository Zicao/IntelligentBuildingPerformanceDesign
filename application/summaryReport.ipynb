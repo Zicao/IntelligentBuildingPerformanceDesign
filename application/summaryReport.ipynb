{
 "cells": [
  {
   "cell_type": "code",
   "execution_count": 2,
   "metadata": {},
   "outputs": [],
   "source": [
    "from AIBPD.DDBPD.data.preprocessing import PreprocessingCBECS\n",
    "from AIBPD.DDBPD.data.database import Database\n",
    "import numpy as np\n",
    "from sklearn import tree\n",
    "import pandas as pd\n",
    "import matplotlib.pyplot as plt"
   ]
  },
  {
   "cell_type": "code",
   "execution_count": 6,
   "metadata": {},
   "outputs": [
    {
     "name": "stdout",
     "output_type": "stream",
     "text": [
      "Load CBECS2012 successfully\n"
     ]
    },
    {
     "name": "stderr",
     "output_type": "stream",
     "text": [
      "C:\\Users\\ucbqzti\\AppData\\Local\\Continuum\\anaconda3\\lib\\site-packages\\ipykernel_launcher.py:5: UserWarning: Boolean Series key will be reindexed to match DataFrame index.\n",
      "  \"\"\"\n"
     ]
    },
    {
     "name": "stdout",
     "output_type": "stream",
     "text": [
      "dataDF in preprocessing shape (1258, 715) level coolingLevel\n",
      "top3 0.18541176470588236 top10 1.1277777777777778 top23 2.316829268292683 top25 2.51525 top75 10.614666666666666 top90 18.45562142857143\n"
     ]
    },
    {
     "data": {
      "image/png": "[encoded data removed]",
      "text/plain": [
       "<Figure size 432x288 with 1 Axes>"
      ]
     },
     "metadata": {
      "needs_background": "light"
     },
     "output_type": "display_data"
    }
   ],
   "source": [
    "database=Database()\n",
    "CBECS_DF=database.select('CBECS2012')\n",
    "Preproc=PreprocessingCBECS()\n",
    "CBECS_DF['CDD65'].hist(bins=100)\n",
    "CBECS_DF=CBECS_DF[CBECS_DF['CDD65']>=500][CBECS_DF['principleActivity']>=2][CBECS_DF['principleActivity']<3]\n",
    "CBECS_DF=Preproc.forCoolingClf(CBECS_DF)"
   ]
  },
  {
   "cell_type": "code",
   "execution_count": 10,
   "metadata": {},
   "outputs": [
    {
     "data": {
      "text/html": [
       "<div>\n",
       "<style scoped>\n",
       "    .dataframe tbody tr th:only-of-type {\n",
       "        vertical-align: middle;\n",
       "    }\n",
       "\n",
       "    .dataframe tbody tr th {\n",
       "        vertical-align: top;\n",
       "    }\n",
       "\n",
       "    .dataframe thead th {\n",
       "        text-align: right;\n",
       "    }\n",
       "</style>\n",
       "<table border=\"1\" class=\"dataframe\">\n",
       "  <thead>\n",
       "    <tr style=\"text-align: right;\">\n",
       "      <th></th>\n",
       "      <th>ID</th>\n",
       "      <th>region</th>\n",
       "      <th>censusRegion</th>\n",
       "      <th>principleActivity</th>\n",
       "      <th>freestandingBuilding</th>\n",
       "      <th>buildingArea</th>\n",
       "      <th>buildingAreaCategory</th>\n",
       "      <th>wallConstruction</th>\n",
       "      <th>roofConstuction</th>\n",
       "      <th>RFCOOL</th>\n",
       "      <th>...</th>\n",
       "      <th>FKCKBTU</th>\n",
       "      <th>FKOTBTU</th>\n",
       "      <th>DHHTBTU</th>\n",
       "      <th>DHCLBTU</th>\n",
       "      <th>DHWTBTU</th>\n",
       "      <th>DHCKBTU</th>\n",
       "      <th>DHOTBTU</th>\n",
       "      <th>climateZone</th>\n",
       "      <th>EUICooling</th>\n",
       "      <th>coolingLevel</th>\n",
       "    </tr>\n",
       "  </thead>\n",
       "  <tbody>\n",
       "    <tr>\n",
       "      <th>8</th>\n",
       "      <td>9</td>\n",
       "      <td>3</td>\n",
       "      <td>7</td>\n",
       "      <td>2</td>\n",
       "      <td>1.0</td>\n",
       "      <td>37500</td>\n",
       "      <td>5</td>\n",
       "      <td>1</td>\n",
       "      <td>4</td>\n",
       "      <td>2</td>\n",
       "      <td>...</td>\n",
       "      <td>NaN</td>\n",
       "      <td>NaN</td>\n",
       "      <td>NaN</td>\n",
       "      <td>NaN</td>\n",
       "      <td>NaN</td>\n",
       "      <td>NaN</td>\n",
       "      <td>NaN</td>\n",
       "      <td>3</td>\n",
       "      <td>12.804373</td>\n",
       "      <td>0.0</td>\n",
       "    </tr>\n",
       "    <tr>\n",
       "      <th>9</th>\n",
       "      <td>10</td>\n",
       "      <td>3</td>\n",
       "      <td>5</td>\n",
       "      <td>2</td>\n",
       "      <td>1.0</td>\n",
       "      <td>600000</td>\n",
       "      <td>9</td>\n",
       "      <td>6</td>\n",
       "      <td>1</td>\n",
       "      <td>2</td>\n",
       "      <td>...</td>\n",
       "      <td>0.0</td>\n",
       "      <td>165109.0</td>\n",
       "      <td>NaN</td>\n",
       "      <td>NaN</td>\n",
       "      <td>NaN</td>\n",
       "      <td>NaN</td>\n",
       "      <td>NaN</td>\n",
       "      <td>2</td>\n",
       "      <td>26.063037</td>\n",
       "      <td>3.0</td>\n",
       "    </tr>\n",
       "    <tr>\n",
       "      <th>10</th>\n",
       "      <td>11</td>\n",
       "      <td>4</td>\n",
       "      <td>8</td>\n",
       "      <td>2</td>\n",
       "      <td>NaN</td>\n",
       "      <td>10250</td>\n",
       "      <td>4</td>\n",
       "      <td>1</td>\n",
       "      <td>6</td>\n",
       "      <td>2</td>\n",
       "      <td>...</td>\n",
       "      <td>NaN</td>\n",
       "      <td>NaN</td>\n",
       "      <td>NaN</td>\n",
       "      <td>NaN</td>\n",
       "      <td>NaN</td>\n",
       "      <td>NaN</td>\n",
       "      <td>NaN</td>\n",
       "      <td>1</td>\n",
       "      <td>2.508195</td>\n",
       "      <td>1.0</td>\n",
       "    </tr>\n",
       "  </tbody>\n",
       "</table>\n",
       "<p>3 rows × 716 columns</p>\n",
       "</div>"
      ],
      "text/plain": [
       "    ID  region  censusRegion  principleActivity  freestandingBuilding  \\\n",
       "8    9       3             7                  2                   1.0   \n",
       "9   10       3             5                  2                   1.0   \n",
       "10  11       4             8                  2                   NaN   \n",
       "\n",
       "    buildingArea  buildingAreaCategory  wallConstruction  roofConstuction  \\\n",
       "8          37500                     5                 1                4   \n",
       "9         600000                     9                 6                1   \n",
       "10         10250                     4                 1                6   \n",
       "\n",
       "    RFCOOL  ...  FKCKBTU   FKOTBTU  DHHTBTU  DHCLBTU  DHWTBTU  DHCKBTU  \\\n",
       "8        2  ...      NaN       NaN      NaN      NaN      NaN      NaN   \n",
       "9        2  ...      0.0  165109.0      NaN      NaN      NaN      NaN   \n",
       "10       2  ...      NaN       NaN      NaN      NaN      NaN      NaN   \n",
       "\n",
       "    DHOTBTU  climateZone  EUICooling  coolingLevel  \n",
       "8       NaN            3   12.804373           0.0  \n",
       "9       NaN            2   26.063037           3.0  \n",
       "10      NaN            1    2.508195           1.0  \n",
       "\n",
       "[3 rows x 716 columns]"
      ]
     },
     "execution_count": 10,
     "metadata": {},
     "output_type": "execute_result"
    }
   ],
   "source": [
    "CBECS_DF.iloc[[1,2,3],:]"
   ]
  },
  {
   "cell_type": "code",
   "execution_count": null,
   "metadata": {},
   "outputs": [],
   "source": []
  }
 ],
 "metadata": {
  "kernelspec": {
   "display_name": "Python 3",
   "language": "python",
   "name": "python3"
  },
  "language_info": {
   "codemirror_mode": {
    "name": "ipython",
    "version": 3
   },
   "file_extension": ".py",
   "mimetype": "text/x-python",
   "name": "python",
   "nbconvert_exporter": "python",
   "pygments_lexer": "ipython3",
   "version": "3.7.3"
  }
 },
 "nbformat": 4,
 "nbformat_minor": 2
}
