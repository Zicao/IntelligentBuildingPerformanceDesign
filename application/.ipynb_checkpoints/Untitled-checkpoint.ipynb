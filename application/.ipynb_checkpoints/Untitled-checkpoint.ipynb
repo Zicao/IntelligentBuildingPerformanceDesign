{
 "cells": [
  {
   "cell_type": "code",
   "execution_count": 9,
   "metadata": {},
   "outputs": [],
   "source": [
    "from sklearn.compose import ColumnTransformer\n",
    "from sklearn.pipeline import Pipeline\n",
    "from sklearn.impute import SimpleImputer\n",
    "from sklearn.preprocessing import StandardScaler, OneHotEncoder\n",
    "import xgboost as xgb\n",
    "import pandas as pd\n",
    "import numpy as np"
   ]
  },
  {
   "cell_type": "code",
   "execution_count": 10,
   "metadata": {},
   "outputs": [],
   "source": [
    "def get_auc(indexList):\n",
    "    CBECS_mat= pd.read_pickle('C:\\\\Users\\\\tzcha\\\\Documents\\\\aibpd\\\\application\\\\CBECS_4heating_clf.plk')\n",
    "    allFeature=['buildingAreaCategory','buildingShape','censusRegion','climateZone','HDD65',\n",
    "                    'HVACUpgrade','insulationUpgrade','MAINHT','MONUSEC',\n",
    "                      'OWNTYPE', 'region','RENWLL','roofConstruction','wallConstruction',\n",
    "                        'WHOPPR','WINTYP','WKHRSC','WWR','yearOfConstruction']\n",
    "    al=np.array(allFeature)\n",
    "    al_iter=list(al[indexList])\n",
    "    mainFeaturesCBECS_Categorical=[]\n",
    "    mainFeaturesCBECS_numeric=[]\n",
    "    mainFeaturesCBECS_Categorical1=['buildingAreaCategory','buildingShape',\n",
    "                    'censusRegion','climateZone','HVACUpgrade',\n",
    "                    'insulationUpgrade','MAINHT','MONUSEC','OWNTYPE', \n",
    "                    'region','RENWLL','roofConstruction','wallConstruction',\n",
    "                        'WHOPPR','WINTYP','WKHRSC']\n",
    "    mainFeaturesCBECS_numeric1=['HDD65','WWR','yearOfConstruction']\n",
    "    for feature in al_iter:\n",
    "        if feature in mainFeaturesCBECS_numeric1:\n",
    "            mainFeaturesCBECS_numeric.append(feature)\n",
    "        elif feature in mainFeaturesCBECS_Categorical1:\n",
    "            mainFeaturesCBECS_Categorical.append(feature)\n",
    "\n",
    "    categorical_transformer = Pipeline(steps=[\n",
    "        ('imputer', SimpleImputer(strategy='constant', fill_value=0)),\n",
    "        ('onehot', OneHotEncoder(handle_unknown='ignore'))])\n",
    "    numeric_transformer = Pipeline(steps=[('imputer', SimpleImputer(strategy='median')),\n",
    "        ('scaler', StandardScaler())])\n",
    "    preprocessor = ColumnTransformer(transformers=[('num', numeric_transformer,mainFeaturesCBECS_numeric),\n",
    "            ('cat', categorical_transformer,mainFeaturesCBECS_Categorical)])\n",
    "    \n",
    "    X=preprocessor.fit_transform(CBECS_mat[al_iter])\n",
    "    y=CBECS_mat['heatingLevel']\n",
    "    \n",
    "    from sklearn.model_selection import KFold\n",
    "    kf = KFold(n_splits=5)\n",
    "    errorList=[]\n",
    "    X1=X.values\n",
    "    Y1=y.values\n",
    "    for train_index, test_index in kf.split(X1,Y1):\n",
    "        print(train_index)\n",
    "        X_train, X_test = X1[train_index], X1[test_index]\n",
    "        y_train, y_test = Y1[train_index], Y1[test_index]\n",
    "        dtrain = xgb.DMatrix(X_train, label=y_train)\n",
    "        dtest = xgb.DMatrix(X_test, label=y_test)\n",
    "        param = {'max_depth': 2, 'eta': 0.8, 'verbosity': 1, 'objective': 'binary:logistic','gamma':0.5}\n",
    "        param['nthread'] = 4\n",
    "        param['eval_metric'] = 'auc'\n",
    "        evallist = [(dtrain, 'train'),(dtest, 'test')]\n",
    "        num_round = 20\n",
    "\n",
    "        bst = xgb.train(param,dtrain, num_round,evallist,\n",
    "                callbacks=[xgb.callback.print_evaluation(show_stdv=False),\n",
    "                xgb.callback.early_stop(3)])\n",
    "        error=1-bst.best_score\n",
    "        errorList.append(error)\n",
    "    error2=np.mean(errorList)\n",
    "    print(error2)\n",
    "    return error2"
   ]
  },
  {
   "cell_type": "code",
   "execution_count": 11,
   "metadata": {},
   "outputs": [],
   "source": [
    "indexList=[0, 1, 2, 3, 7, 8, 9, 10, 12, 14, 15, 16, 17]"
   ]
  },
  {
   "cell_type": "code",
   "execution_count": 12,
   "metadata": {},
   "outputs": [
    {
     "ename": "AttributeError",
     "evalue": "values not found",
     "output_type": "error",
     "traceback": [
      "\u001b[1;31m---------------------------------------------------------------------------\u001b[0m",
      "\u001b[1;31mAttributeError\u001b[0m                            Traceback (most recent call last)",
      "\u001b[1;32m<ipython-input-12-628464353dd5>\u001b[0m in \u001b[0;36m<module>\u001b[1;34m()\u001b[0m\n\u001b[1;32m----> 1\u001b[1;33m \u001b[0mauc\u001b[0m\u001b[1;33m=\u001b[0m\u001b[0mget_auc\u001b[0m\u001b[1;33m(\u001b[0m\u001b[0mindexList\u001b[0m\u001b[1;33m)\u001b[0m\u001b[1;33m\u001b[0m\u001b[0m\n\u001b[0m",
      "\u001b[1;32m<ipython-input-10-7b37f56203f6>\u001b[0m in \u001b[0;36mget_auc\u001b[1;34m(indexList)\u001b[0m\n\u001b[0;32m     36\u001b[0m     \u001b[0mkf\u001b[0m \u001b[1;33m=\u001b[0m \u001b[0mKFold\u001b[0m\u001b[1;33m(\u001b[0m\u001b[0mn_splits\u001b[0m\u001b[1;33m=\u001b[0m\u001b[1;36m5\u001b[0m\u001b[1;33m)\u001b[0m\u001b[1;33m\u001b[0m\u001b[0m\n\u001b[0;32m     37\u001b[0m     \u001b[0merrorList\u001b[0m\u001b[1;33m=\u001b[0m\u001b[1;33m[\u001b[0m\u001b[1;33m]\u001b[0m\u001b[1;33m\u001b[0m\u001b[0m\n\u001b[1;32m---> 38\u001b[1;33m     \u001b[0mX1\u001b[0m\u001b[1;33m=\u001b[0m\u001b[0mX\u001b[0m\u001b[1;33m.\u001b[0m\u001b[0mvalues\u001b[0m\u001b[1;33m\u001b[0m\u001b[0m\n\u001b[0m\u001b[0;32m     39\u001b[0m     \u001b[0mY1\u001b[0m\u001b[1;33m=\u001b[0m\u001b[0my\u001b[0m\u001b[1;33m.\u001b[0m\u001b[0mvalues\u001b[0m\u001b[1;33m\u001b[0m\u001b[0m\n\u001b[0;32m     40\u001b[0m     \u001b[1;32mfor\u001b[0m \u001b[0mtrain_index\u001b[0m\u001b[1;33m,\u001b[0m \u001b[0mtest_index\u001b[0m \u001b[1;32min\u001b[0m \u001b[0mkf\u001b[0m\u001b[1;33m.\u001b[0m\u001b[0msplit\u001b[0m\u001b[1;33m(\u001b[0m\u001b[0mX1\u001b[0m\u001b[1;33m,\u001b[0m\u001b[0mY1\u001b[0m\u001b[1;33m)\u001b[0m\u001b[1;33m:\u001b[0m\u001b[1;33m\u001b[0m\u001b[0m\n",
      "\u001b[1;32m~\\Anaconda3\\lib\\site-packages\\scipy\\sparse\\base.py\u001b[0m in \u001b[0;36m__getattr__\u001b[1;34m(self, attr)\u001b[0m\n\u001b[0;32m    687\u001b[0m             \u001b[1;32mreturn\u001b[0m \u001b[0mself\u001b[0m\u001b[1;33m.\u001b[0m\u001b[0mgetnnz\u001b[0m\u001b[1;33m(\u001b[0m\u001b[1;33m)\u001b[0m\u001b[1;33m\u001b[0m\u001b[0m\n\u001b[0;32m    688\u001b[0m         \u001b[1;32melse\u001b[0m\u001b[1;33m:\u001b[0m\u001b[1;33m\u001b[0m\u001b[0m\n\u001b[1;32m--> 689\u001b[1;33m             \u001b[1;32mraise\u001b[0m \u001b[0mAttributeError\u001b[0m\u001b[1;33m(\u001b[0m\u001b[0mattr\u001b[0m \u001b[1;33m+\u001b[0m \u001b[1;34m\" not found\"\u001b[0m\u001b[1;33m)\u001b[0m\u001b[1;33m\u001b[0m\u001b[0m\n\u001b[0m\u001b[0;32m    690\u001b[0m \u001b[1;33m\u001b[0m\u001b[0m\n\u001b[0;32m    691\u001b[0m     \u001b[1;32mdef\u001b[0m \u001b[0mtranspose\u001b[0m\u001b[1;33m(\u001b[0m\u001b[0mself\u001b[0m\u001b[1;33m,\u001b[0m \u001b[0maxes\u001b[0m\u001b[1;33m=\u001b[0m\u001b[1;32mNone\u001b[0m\u001b[1;33m,\u001b[0m \u001b[0mcopy\u001b[0m\u001b[1;33m=\u001b[0m\u001b[1;32mFalse\u001b[0m\u001b[1;33m)\u001b[0m\u001b[1;33m:\u001b[0m\u001b[1;33m\u001b[0m\u001b[0m\n",
      "\u001b[1;31mAttributeError\u001b[0m: values not found"
     ]
    }
   ],
   "source": [
    "auc=get_auc(indexList)"
   ]
  },
  {
   "cell_type": "code",
   "execution_count": null,
   "metadata": {},
   "outputs": [],
   "source": []
  }
 ],
 "metadata": {
  "kernelspec": {
   "display_name": "Python 3",
   "language": "python",
   "name": "python3"
  },
  "language_info": {
   "codemirror_mode": {
    "name": "ipython",
    "version": 3
   },
   "file_extension": ".py",
   "mimetype": "text/x-python",
   "name": "python",
   "nbconvert_exporter": "python",
   "pygments_lexer": "ipython3",
   "version": "3.6.5"
  }
 },
 "nbformat": 4,
 "nbformat_minor": 2
}
