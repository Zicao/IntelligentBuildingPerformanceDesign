{
 "cells": [
  {
   "cell_type": "markdown",
   "metadata": {},
   "source": [
    "#predition EUI using regression algorithms"
   ]
  },
  {
   "cell_type": "code",
   "execution_count": 1,
   "metadata": {},
   "outputs": [
    {
     "name": "stdout",
     "output_type": "stream",
     "text": [
      "Please select a database to continue the analysis\n"
     ]
    }
   ],
   "source": [
    "from aibpd.data.database import Database\n",
    "from aibpd.data.preprocessing import PreprocessingCBECS\n",
    "import numpy as np\n",
    "import pandas as pd\n",
    "db=Database()\n",
    "CBECS_DF=db.select()\n",
    "#preprocessing for regression\n",
    "prep4eui=PreprocessingCBECS()\n",
    "CBECS_DF=prep4eui.prep4EUIReg(CBECS_DF)"
   ]
  },
  {
   "cell_type": "code",
   "execution_count": 3,
   "metadata": {},
   "outputs": [
    {
     "name": "stderr",
     "output_type": "stream",
     "text": [
      "C:\\Users\\tzcha\\Anaconda3\\lib\\site-packages\\ipykernel_launcher.py:1: UserWarning: Boolean Series key will be reindexed to match DataFrame index.\n",
      "  \"\"\"Entry point for launching an IPython kernel.\n"
     ]
    }
   ],
   "source": [
    "CBECS_DF=CBECS_DF[CBECS_DF['principleActivity']>=2][CBECS_DF['principleActivity']<3]\n",
    "CBECS_DF=CBECS_DF.dropna()\n",
    "CBECS_DF['MONUSEC']=pd.cut(CBECS_DF['MONUSE'],[0,6,9,10,13],labels=[1,2,3,4])\n",
    "CBECS_DF['OCCUPYPC']=pd.cut(CBECS_DF['OCCUPYP'],5,labels=range(5))\n",
    "CBECS_DF['HEATPC']=pd.cut(CBECS_DF['HEATP'],[-10,50,90,101],labels=[1,2,3])\n",
    "CBECS_DF['MONUSEC']=CBECS_DF['MONUSEC'].astype('int')\n",
    "CBECS_DF['OCCUPYPC']=CBECS_DF['OCCUPYPC'].astype('int')\n",
    "CBECS_DF['HEATPC']=CBECS_DF['HEATPC'].astype('int')\n",
    "CBECS_DF['EUI']=CBECS_DF['EUI'].astype('float')"
   ]
  },
  {
   "cell_type": "code",
   "execution_count": 4,
   "metadata": {},
   "outputs": [],
   "source": [
    "featureList=['buildingAreaCategory','buildingShape','censusRegion','climateZone','ELHT1','HDD65',\\\n",
    "            'HEATPC','HVACUpgrade','insulationUpgrade','MAINCL','MAINHT','MONUSEC','numEmployeesCategory',\\\n",
    "             'numFloors','OCCUPYP','OPNWE',\\\n",
    "            'OWNTYPE', 'region','RENWLL','lightingUpgrade','roofConstuction','STUSED',\\\n",
    "            'OPEN24','wallConstruction',\\\n",
    "            'WHOPPR','WINTYP','WKHRSC','WWR','yrConstructionCategory','EUI']\n",
    "corrMattDF=CBECS_DF[featureList]\n",
    "column=featureList"
   ]
  },
  {
   "cell_type": "code",
   "execution_count": 7,
   "metadata": {},
   "outputs": [
    {
     "name": "stderr",
     "output_type": "stream",
     "text": [
      "[Parallel(n_jobs=1)]: Done   1 out of   1 | elapsed:    0.1s remaining:    0.0s\n",
      "[Parallel(n_jobs=1)]: Done  29 out of  29 | elapsed:    5.7s finished\n",
      "\n",
      "[2019-05-09 15:48:07] Features: 1/5 -- score: -0.04721480608460511[Parallel(n_jobs=1)]: Done   1 out of   1 | elapsed:    0.1s remaining:    0.0s\n",
      "[Parallel(n_jobs=1)]: Done  28 out of  28 | elapsed:    5.7s finished\n",
      "\n",
      "[2019-05-09 15:48:13] Features: 2/5 -- score: -0.04364721025698781[Parallel(n_jobs=1)]: Done   1 out of   1 | elapsed:    0.1s remaining:    0.0s\n",
      "[Parallel(n_jobs=1)]: Done  27 out of  27 | elapsed:    5.4s finished\n",
      "\n",
      "[2019-05-09 15:48:19] Features: 3/5 -- score: -0.04288109806714937[Parallel(n_jobs=1)]: Done   1 out of   1 | elapsed:    0.1s remaining:    0.0s\n",
      "[Parallel(n_jobs=1)]: Done  26 out of  26 | elapsed:    5.4s finished\n",
      "\n",
      "[2019-05-09 15:48:24] Features: 4/5 -- score: -0.04259167047636212[Parallel(n_jobs=1)]: Done   1 out of   1 | elapsed:    0.1s remaining:    0.0s\n"
     ]
    },
    {
     "name": "stdout",
     "output_type": "stream",
     "text": [
      "[4, 6, 12, 16, 26]\n"
     ]
    },
    {
     "name": "stderr",
     "output_type": "stream",
     "text": [
      "[Parallel(n_jobs=1)]: Done  25 out of  25 | elapsed:    5.3s finished\n",
      "\n",
      "[2019-05-09 15:48:30] Features: 5/5 -- score: -0.04228885275308443"
     ]
    }
   ],
   "source": [
    "#feature selection\n",
    "from sklearn import svm\n",
    "from sklearn.model_selection import train_test_split\n",
    "from sklearn.metrics import accuracy_score as acc\n",
    "from mlxtend.feature_selection import SequentialFeatureSelector as sfs\n",
    "#for j in range(1,25):\n",
    "    #print('Training dataset shape:', X_train.shape, y_train.shape)\n",
    "    #print('Testing dataset shape:', X_test.shape, y_test.shape)\n",
    "    #j1=25-j\n",
    "clf = svm.SVR(gamma=0.001, C=1.0, epsilon=0.2)\n",
    "sfs1 = sfs(clf,\n",
    "           k_features=5,\n",
    "           forward=True,\n",
    "           floating=False,\n",
    "           verbose=2,\n",
    "           scoring='r2',\n",
    "           cv=5)\n",
    "\n",
    "sfs1 = sfs1.fit(corrMattDF.values[:,:-1], corrMattDF.values[:,-1])\n",
    "feat_cols = list(sfs1.k_feature_idx_)\n",
    "print(feat_cols)"
   ]
  },
  {
   "cell_type": "code",
   "execution_count": 8,
   "metadata": {},
   "outputs": [],
   "source": [
    "X_train, X_test, y_train, y_test = train_test_split(\n",
    "    corrMattDF.values[:,:-1],\n",
    "    corrMattDF.values[:,-1],\n",
    "    test_size=0.2,\n",
    "    random_state=42)\n",
    "y_train = y_train.ravel()\n",
    "y_test = y_test.ravel()"
   ]
  },
  {
   "cell_type": "code",
   "execution_count": null,
   "metadata": {},
   "outputs": [],
   "source": [
    "from sklearn.model_selection import KFold\n",
    "kf = KFold(n_splits=5)\n",
    "errorList=[]\n",
    "X1=X[:,[4,6,12,16,26]]\n",
    "Y1=Y\n",
    "for train_index, test_index in kf.split(X1,Y1):\n",
    "    X_train, X_test = X1[train_index], X1[test_index]\n",
    "    y_train, y_test = Y1[train_index], Y1[test_index]\n",
    "    clf2 = svm.SVR(gamma=0.001, C=1.0, epsilon=0.2)\n",
    "    clf2.fit(X_train,y_train) \n",
    "    error=1-clf2.score(X_test,y_test)\n",
    "    errorList.append(error)\n",
    "error2=np.mean(errorList)\n",
    "print(1-error2)"
   ]
  }
 ],
 "metadata": {
  "kernelspec": {
   "display_name": "Python 3",
   "language": "python",
   "name": "python3"
  },
  "language_info": {
   "codemirror_mode": {
    "name": "ipython",
    "version": 3
   },
   "file_extension": ".py",
   "mimetype": "text/x-python",
   "name": "python",
   "nbconvert_exporter": "python",
   "pygments_lexer": "ipython3",
   "version": "3.6.5"
  }
 },
 "nbformat": 4,
 "nbformat_minor": 2
}
