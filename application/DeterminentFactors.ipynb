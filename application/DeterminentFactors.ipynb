{
 "cells": [
  {
   "cell_type": "code",
   "execution_count": 1,
   "metadata": {},
   "outputs": [],
   "source": [
    "from IntelligentBuildingPerformanceDesign.AIBPD.data.preprocessing import PreprocessingCBECS\n",
    "from IntelligentBuildingPerformanceDesign.AIBPD.data.database import Database\n",
    "import numpy as np\n",
    "import pandas as pd"
   ]
  },
  {
   "cell_type": "code",
   "execution_count": 2,
   "metadata": {},
   "outputs": [
    {
     "name": "stdout",
     "output_type": "stream",
     "text": [
      "Load CBECS2012 successfully\n"
     ]
    }
   ],
   "source": [
    "database=Database()\n",
    "CBECS_DF=database.select('CBECS2012')\n",
    "Preproc=PreprocessingCBECS()"
   ]
  },
  {
   "cell_type": "code",
   "execution_count": 5,
   "metadata": {},
   "outputs": [
    {
     "name": "stderr",
     "output_type": "stream",
     "text": [
      "C:\\Users\\tzcha\\Anaconda3\\lib\\site-packages\\ipykernel_launcher.py:2: UserWarning: Boolean Series key will be reindexed to match DataFrame index.\n",
      "  \n"
     ]
    }
   ],
   "source": [
    "#Select samples whoes HDD65 >3000\n",
    "CBECS_DF=CBECS_DF[CBECS_DF['HDD65']>=3000][CBECS_DF['principleActivity']>=2][CBECS_DF['principleActivity']<3]"
   ]
  },
  {
   "cell_type": "code",
   "execution_count": 7,
   "metadata": {},
   "outputs": [
    {
     "name": "stdout",
     "output_type": "stream",
     "text": [
      "dataDF in preprocessing shape (814, 716)\n",
      "top3 0.42833333333333334 top10 1.8888636363636364 top23 4.974313725490196 top25 5.3768375 top75 34.43789552238806 top90 61.38675\n"
     ]
    },
    {
     "name": "stderr",
     "output_type": "stream",
     "text": [
      "C:\\Users\\tzcha\\Documents\\IntelligentBuildingPerformanceDesign\\AIBPD\\data\\preprocessing.py:184: FutureWarning: convert_objects is deprecated.  To re-infer data dtypes for object columns, use DataFrame.infer_objects()\n",
      "For all other conversions use the data-type specific converters pd.to_datetime, pd.to_timedelta and pd.to_numeric.\n",
      "  dataDF=dataDF.convert_objects(convert_numeric=True)\n"
     ]
    }
   ],
   "source": [
    "CBECS_DF=Preproc.forHEHSClf(CBECS_DF)"
   ]
  },
  {
   "cell_type": "code",
   "execution_count": 8,
   "metadata": {},
   "outputs": [],
   "source": [
    "CBECS_DF=CBECS_DF.dropna()"
   ]
  },
  {
   "cell_type": "code",
   "execution_count": null,
   "metadata": {},
   "outputs": [],
   "source": []
  }
 ],
 "metadata": {
  "kernelspec": {
   "display_name": "Python 3",
   "language": "python",
   "name": "python3"
  },
  "language_info": {
   "codemirror_mode": {
    "name": "ipython",
    "version": 3
   },
   "file_extension": ".py",
   "mimetype": "text/x-python",
   "name": "python",
   "nbconvert_exporter": "python",
   "pygments_lexer": "ipython3",
   "version": "3.6.5"
  }
 },
 "nbformat": 4,
 "nbformat_minor": 2
}
