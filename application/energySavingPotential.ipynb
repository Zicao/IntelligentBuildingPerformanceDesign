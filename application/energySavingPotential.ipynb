{
 "cells": [
  {
   "cell_type": "code",
   "execution_count": 2,
   "metadata": {},
   "outputs": [],
   "source": [
    "#Predict whether a building is high performance or not using machine learning algorithms such as desicion tree and svm\n",
    "from aibpd.data.preprocessing import PreprocessingCBECS\n",
    "from aibpd.data.database import Database\n",
    "import numpy as np\n",
    "from sklearn import tree\n",
    "import pandas as pd\n",
    "import matplotlib.pyplot as plt\n",
    "import aibpd"
   ]
  },
  {
   "cell_type": "code",
   "execution_count": 3,
   "metadata": {},
   "outputs": [],
   "source": [
    "s1 = pd.Series([7.3, np.nan, 3.4, 1.5], index=['a', 'c', 'd', 'e'])\n",
    "s2 = pd.Series([-2.1, 3.6, -1.5, 4], index=['a', 'c', 'd', 'e'])"
   ]
  },
  {
   "cell_type": "code",
   "execution_count": 4,
   "metadata": {},
   "outputs": [],
   "source": [
    "s1.iloc[]"
   ]
  },
  {
   "cell_type": "code",
   "execution_count": 3,
   "metadata": {},
   "outputs": [
    {
     "name": "stdout",
     "output_type": "stream",
     "text": [
      "Please select a database to continue the analysis\n",
      "CBECS2012.csv has been loaded.\n",
      "Your selected dataframe has 23 columns.\n",
      "There are 8 columns that have missing values.\n",
      "                   Missing Values  % of Total Values\n",
      "MAINCL                        684               10.2\n",
      "buildingShape                 614                9.1\n",
      "WWR                           614                9.1\n",
      "MAINHT                        534                7.9\n",
      "HVACUpgrade                   361                5.4\n",
      "insulationUpgrade             361                5.4\n",
      "RENWLL                        361                5.4\n",
      "lightingUpgrade               361                5.4\n"
     ]
    }
   ],
   "source": [
    "database=Database(file_path='CBECS2012.csv')\n",
    "Preproc=PreprocessingCBECS(database)"
   ]
  },
  {
   "cell_type": "code",
   "execution_count": 9,
   "metadata": {},
   "outputs": [],
   "source": [
    "from sklearn.compose import ColumnTransformer\n",
    "from sklearn.pipeline import Pipeline\n",
    "from sklearn.impute import SimpleImputer\n",
    "from sklearn.preprocessing import StandardScaler, OneHotEncoder"
   ]
  },
  {
   "cell_type": "code",
   "execution_count": 4,
   "metadata": {},
   "outputs": [],
   "source": [
    "CBECS_DF= pd.read_pickle('C:\\\\Users\\\\tzcha\\\\Documents\\\\aibpd\\\\application\\\\CBECS_4heating_clf.plk')\n",
    "y=CBECS_DF['heatingLevel']"
   ]
  },
  {
   "cell_type": "code",
   "execution_count": 6,
   "metadata": {},
   "outputs": [],
   "source": [
    "indexList=[1,2,3,4,5,6,7]"
   ]
  },
  {
   "cell_type": "code",
   "execution_count": 7,
   "metadata": {},
   "outputs": [],
   "source": [
    "allFeature=['buildingAreaCategory','buildingShape','censusRegion','climateZone','HDD65',\n",
    "            'HVACUpgrade','insulationUpgrade','MAINHT','MONUSEC','OWNTYPE', 'region',\n",
    "            'RENWLL','roofConstruction','wallConstruction','WHOPPR','WINTYP','WKHRSC',\n",
    "            'WWR','yearOfConstruction']\n",
    "al=np.array(allFeature)\n",
    "al_iter=list(al[indexList])\n",
    "mainFeaturesCBECS_Categorical=[]\n",
    "mainFeaturesCBECS_numeric=[]\n",
    "mainFeaturesCBECS_Categorical1=['buildingAreaCategory','buildingShape',\n",
    "                'censusRegion','climateZone','HVACUpgrade',\n",
    "                'insulationUpgrade','MAINHT','MONUSEC','OWNTYPE', \n",
    "                'region','RENWLL','roofConstruction','wallConstruction',\n",
    "                    'WHOPPR','WINTYP','WKHRSC']\n",
    "mainFeaturesCBECS_numeric1=['HDD65','WWR','yearOfConstruction']\n",
    "for feature in al_iter:\n",
    "    if feature in mainFeaturesCBECS_numeric1:\n",
    "        mainFeaturesCBECS_numeric.append(feature)\n",
    "    elif feature in mainFeaturesCBECS_Categorical1:\n",
    "        mainFeaturesCBECS_Categorical.append(feature)"
   ]
  },
  {
   "cell_type": "code",
   "execution_count": 10,
   "metadata": {},
   "outputs": [],
   "source": [
    "categorical_transformer = Pipeline(steps=[\n",
    "    ('imputer', SimpleImputer(strategy='constant', fill_value=0)),\n",
    "    ('onehot', OneHotEncoder(handle_unknown='ignore'))])\n",
    "numeric_transformer = Pipeline(steps=[('imputer', SimpleImputer(strategy='median')),\n",
    "    ('scaler', StandardScaler())])\n",
    "preprocessor = ColumnTransformer(transformers=[('num', numeric_transformer,mainFeaturesCBECS_numeric),\n",
    "        ('cat', categorical_transformer,mainFeaturesCBECS_Categorical)])"
   ]
  },
  {
   "cell_type": "code",
   "execution_count": 103,
   "metadata": {},
   "outputs": [],
   "source": [
    "allFeatures=mainFeaturesCBECS_numeric+mainFeaturesCBECS_Categorical\n",
    "X = preprocessor.fit_transform(CBECS_DF[allFeatures])"
   ]
  },
  {
   "cell_type": "code",
   "execution_count": 104,
   "metadata": {},
   "outputs": [],
   "source": [
    "from sklearn.model_selection import train_test_split, GridSearchCV\n",
    "X_train, X_test, y_train, y_test = train_test_split(X, y, test_size=0.2)"
   ]
  },
  {
   "cell_type": "code",
   "execution_count": 105,
   "metadata": {},
   "outputs": [
    {
     "name": "stdout",
     "output_type": "stream",
     "text": [
      "0.6170568561872909\n",
      "model score: 0.612\n"
     ]
    },
    {
     "name": "stderr",
     "output_type": "stream",
     "text": [
      "C:\\Users\\tzcha\\Anaconda3\\lib\\site-packages\\sklearn\\svm\\base.py:193: FutureWarning: The default value of gamma will change from 'auto' to 'scale' in version 0.22 to account better for unscaled features. Set gamma explicitly to 'auto' or 'scale' to avoid this warning.\n",
      "  \"avoid this warning.\", FutureWarning)\n"
     ]
    }
   ],
   "source": [
    "from sklearn import svm\n",
    "from mlxtend.feature_selection import SequentialFeatureSelector as sfs\n",
    "from sklearn.metrics import auc,roc_curve\n",
    "clf = Pipeline(steps=[('classifier', svm.SVC())])\n",
    "clf.fit(X_train, y_train)\n",
    "pred=clf.predict(X_test)\n",
    "fpr, tpr, thresholds = roc_curve(y_test, pred)\n",
    "print(auc(fpr, tpr))\n",
    "print(\"model score: %.3f\" % clf.score(X_test, y_test))"
   ]
  },
  {
   "cell_type": "code",
   "execution_count": 106,
   "metadata": {},
   "outputs": [
    {
     "name": "stderr",
     "output_type": "stream",
     "text": [
      "C:\\Users\\tzcha\\Anaconda3\\lib\\site-packages\\xgboost\\core.py:587: FutureWarning: Series.base is deprecated and will be removed in a future version\n",
      "  if getattr(data, 'base', None) is not None and \\\n"
     ]
    }
   ],
   "source": [
    "import xgboost as xgb\n",
    "dtrain = xgb.DMatrix(X_train, label=y_train)\n",
    "dtest = xgb.DMatrix(X_test,label=y_test)"
   ]
  },
  {
   "cell_type": "code",
   "execution_count": 171,
   "metadata": {},
   "outputs": [
    {
     "name": "stdout",
     "output_type": "stream",
     "text": [
      "[0]\ttrain-auc:0.561395\ttest-auc:0.560201\n",
      "Multiple eval metrics have been passed: 'test-auc' will be used for early stopping.\n",
      "\n",
      "Will train until test-auc hasn't improved in 3 rounds.\n",
      "[0]\ttrain-auc:0.561395\ttest-auc:0.560201\n",
      "[1]\ttrain-auc:0.583912\ttest-auc:0.623746\n",
      "[1]\ttrain-auc:0.583912\ttest-auc:0.623746\n",
      "[2]\ttrain-auc:0.608481\ttest-auc:0.592809\n",
      "[2]\ttrain-auc:0.608481\ttest-auc:0.592809\n",
      "[3]\ttrain-auc:0.633417\ttest-auc:0.609532\n",
      "[3]\ttrain-auc:0.633417\ttest-auc:0.609532\n",
      "[4]\ttrain-auc:0.633417\ttest-auc:0.609532\n",
      "Stopping. Best iteration:\n",
      "[1]\ttrain-auc:0.583912\ttest-auc:0.623746\n",
      "\n"
     ]
    },
    {
     "name": "stderr",
     "output_type": "stream",
     "text": [
      "C:\\Users\\tzcha\\Anaconda3\\lib\\site-packages\\xgboost\\core.py:587: FutureWarning: Series.base is deprecated and will be removed in a future version\n",
      "  if getattr(data, 'base', None) is not None and \\\n",
      "C:\\Users\\tzcha\\Anaconda3\\lib\\site-packages\\xgboost\\core.py:588: FutureWarning: Series.base is deprecated and will be removed in a future version\n",
      "  data.base is not None and isinstance(data, np.ndarray) \\\n"
     ]
    }
   ],
   "source": [
    "param = {'max_depth': 2, 'eta': 0.8, 'verbosity': 1, 'objective': 'binary:logistic','gamma':0.5}\n",
    "param['nthread'] = 4\n",
    "param['eval_metric'] = 'auc'\n",
    "evallist = [(dtrain, 'train'),(dtest, 'test')]\n",
    "num_round = 10\n",
    "dtrain1=xgb.DMatrix(X, label=y)\n",
    "bst = xgb.train(param,dtrain, num_round,evallist,callbacks=[xgb.callback.print_evaluation(show_stdv=False),\n",
    "                        xgb.callback.early_stop(3)])"
   ]
  },
  {
   "cell_type": "code",
   "execution_count": 172,
   "metadata": {},
   "outputs": [
    {
     "name": "stdout",
     "output_type": "stream",
     "text": [
      "[0]\ttrain-auc:0.570507+0.014805\ttest-auc:0.485836+0.0534883\n",
      "Multiple eval metrics have been passed: 'test-auc' will be used for early stopping.\n",
      "\n",
      "Will train until test-auc hasn't improved in 3 rounds.\n",
      "[1]\ttrain-auc:0.61628+0.0261078\ttest-auc:0.494006+0.0589445\n",
      "[2]\ttrain-auc:0.637687+0.0254487\ttest-auc:0.499156+0.0534997\n",
      "[3]\ttrain-auc:0.647563+0.0269985\ttest-auc:0.494136+0.0520948\n",
      "[4]\ttrain-auc:0.649308+0.0275123\ttest-auc:0.495194+0.0507621\n",
      "[5]\ttrain-auc:0.652995+0.029937\ttest-auc:0.491226+0.0560095\n",
      "Stopping. Best iteration:\n",
      "[2]\ttrain-auc:0.637687+0.0254487\ttest-auc:0.499156+0.0534997\n",
      "\n"
     ]
    }
   ],
   "source": [
    "res = xgb.cv(param, dtrain, num_boost_round=10, nfold=5,metrics={'auc'}, seed=0,callbacks=[xgb.callback.print_evaluation(show_stdv=True),\n",
    "                        xgb.callback.early_stop(3)])"
   ]
  },
  {
   "cell_type": "code",
   "execution_count": 173,
   "metadata": {},
   "outputs": [],
   "source": [
    "def logregobj(preds, dtrain):\n",
    "    labels = dtrain.get_label()\n",
    "    preds = 1.0 / (1.0 + np.exp(-preds))\n",
    "    grad = preds - labels\n",
    "    hess = preds * (1.0 - preds)\n",
    "    return grad, hess\n",
    "def evalerror(preds, dtrain):\n",
    "    labels = dtrain.get_label()\n",
    "    return 'error', float(sum(labels != (preds > 0.0))) / len(labels)"
   ]
  },
  {
   "cell_type": "code",
   "execution_count": 181,
   "metadata": {},
   "outputs": [],
   "source": [
    "df=xgb.cv(param, dtrain, num_round, nfold=5, metrics={'auc'},seed=0, obj=logregobj, feval=evalerror)"
   ]
  },
  {
   "cell_type": "code",
   "execution_count": 182,
   "metadata": {},
   "outputs": [
    {
     "data": {
      "text/html": [
       "<div>\n",
       "<style scoped>\n",
       "    .dataframe tbody tr th:only-of-type {\n",
       "        vertical-align: middle;\n",
       "    }\n",
       "\n",
       "    .dataframe tbody tr th {\n",
       "        vertical-align: top;\n",
       "    }\n",
       "\n",
       "    .dataframe thead th {\n",
       "        text-align: right;\n",
       "    }\n",
       "</style>\n",
       "<table border=\"1\" class=\"dataframe\">\n",
       "  <thead>\n",
       "    <tr style=\"text-align: right;\">\n",
       "      <th></th>\n",
       "      <th>train-auc-mean</th>\n",
       "      <th>train-auc-std</th>\n",
       "      <th>train-error-mean</th>\n",
       "      <th>train-error-std</th>\n",
       "      <th>test-auc-mean</th>\n",
       "      <th>test-auc-std</th>\n",
       "      <th>test-error-mean</th>\n",
       "      <th>test-error-std</th>\n",
       "    </tr>\n",
       "  </thead>\n",
       "  <tbody>\n",
       "    <tr>\n",
       "      <th>0</th>\n",
       "      <td>0.580715</td>\n",
       "      <td>0.027434</td>\n",
       "      <td>0.507693</td>\n",
       "      <td>0.016912</td>\n",
       "      <td>0.473664</td>\n",
       "      <td>0.048453</td>\n",
       "      <td>0.507692</td>\n",
       "      <td>0.067646</td>\n",
       "    </tr>\n",
       "    <tr>\n",
       "      <th>1</th>\n",
       "      <td>0.592748</td>\n",
       "      <td>0.039754</td>\n",
       "      <td>0.507693</td>\n",
       "      <td>0.016912</td>\n",
       "      <td>0.453823</td>\n",
       "      <td>0.022699</td>\n",
       "      <td>0.507692</td>\n",
       "      <td>0.067646</td>\n",
       "    </tr>\n",
       "    <tr>\n",
       "      <th>2</th>\n",
       "      <td>0.609081</td>\n",
       "      <td>0.032526</td>\n",
       "      <td>0.507693</td>\n",
       "      <td>0.016912</td>\n",
       "      <td>0.453550</td>\n",
       "      <td>0.024530</td>\n",
       "      <td>0.507692</td>\n",
       "      <td>0.067646</td>\n",
       "    </tr>\n",
       "    <tr>\n",
       "      <th>3</th>\n",
       "      <td>0.610218</td>\n",
       "      <td>0.033343</td>\n",
       "      <td>0.507693</td>\n",
       "      <td>0.016912</td>\n",
       "      <td>0.458812</td>\n",
       "      <td>0.031976</td>\n",
       "      <td>0.507692</td>\n",
       "      <td>0.067646</td>\n",
       "    </tr>\n",
       "    <tr>\n",
       "      <th>4</th>\n",
       "      <td>0.613195</td>\n",
       "      <td>0.033817</td>\n",
       "      <td>0.507693</td>\n",
       "      <td>0.016912</td>\n",
       "      <td>0.459338</td>\n",
       "      <td>0.032769</td>\n",
       "      <td>0.507692</td>\n",
       "      <td>0.067646</td>\n",
       "    </tr>\n",
       "    <tr>\n",
       "      <th>5</th>\n",
       "      <td>0.614822</td>\n",
       "      <td>0.034417</td>\n",
       "      <td>0.507693</td>\n",
       "      <td>0.016912</td>\n",
       "      <td>0.456720</td>\n",
       "      <td>0.026186</td>\n",
       "      <td>0.507692</td>\n",
       "      <td>0.067646</td>\n",
       "    </tr>\n",
       "    <tr>\n",
       "      <th>6</th>\n",
       "      <td>0.619989</td>\n",
       "      <td>0.033918</td>\n",
       "      <td>0.507693</td>\n",
       "      <td>0.016912</td>\n",
       "      <td>0.466239</td>\n",
       "      <td>0.031322</td>\n",
       "      <td>0.507692</td>\n",
       "      <td>0.067646</td>\n",
       "    </tr>\n",
       "    <tr>\n",
       "      <th>7</th>\n",
       "      <td>0.621535</td>\n",
       "      <td>0.034875</td>\n",
       "      <td>0.507693</td>\n",
       "      <td>0.016912</td>\n",
       "      <td>0.465186</td>\n",
       "      <td>0.030829</td>\n",
       "      <td>0.507692</td>\n",
       "      <td>0.067646</td>\n",
       "    </tr>\n",
       "    <tr>\n",
       "      <th>8</th>\n",
       "      <td>0.624238</td>\n",
       "      <td>0.029998</td>\n",
       "      <td>0.507693</td>\n",
       "      <td>0.016912</td>\n",
       "      <td>0.479186</td>\n",
       "      <td>0.047214</td>\n",
       "      <td>0.507692</td>\n",
       "      <td>0.067646</td>\n",
       "    </tr>\n",
       "    <tr>\n",
       "      <th>9</th>\n",
       "      <td>0.624271</td>\n",
       "      <td>0.030019</td>\n",
       "      <td>0.507693</td>\n",
       "      <td>0.016912</td>\n",
       "      <td>0.478660</td>\n",
       "      <td>0.047243</td>\n",
       "      <td>0.507692</td>\n",
       "      <td>0.067646</td>\n",
       "    </tr>\n",
       "  </tbody>\n",
       "</table>\n",
       "</div>"
      ],
      "text/plain": [
       "   train-auc-mean  train-auc-std  train-error-mean  train-error-std  \\\n",
       "0        0.580715       0.027434          0.507693         0.016912   \n",
       "1        0.592748       0.039754          0.507693         0.016912   \n",
       "2        0.609081       0.032526          0.507693         0.016912   \n",
       "3        0.610218       0.033343          0.507693         0.016912   \n",
       "4        0.613195       0.033817          0.507693         0.016912   \n",
       "5        0.614822       0.034417          0.507693         0.016912   \n",
       "6        0.619989       0.033918          0.507693         0.016912   \n",
       "7        0.621535       0.034875          0.507693         0.016912   \n",
       "8        0.624238       0.029998          0.507693         0.016912   \n",
       "9        0.624271       0.030019          0.507693         0.016912   \n",
       "\n",
       "   test-auc-mean  test-auc-std  test-error-mean  test-error-std  \n",
       "0       0.473664      0.048453         0.507692        0.067646  \n",
       "1       0.453823      0.022699         0.507692        0.067646  \n",
       "2       0.453550      0.024530         0.507692        0.067646  \n",
       "3       0.458812      0.031976         0.507692        0.067646  \n",
       "4       0.459338      0.032769         0.507692        0.067646  \n",
       "5       0.456720      0.026186         0.507692        0.067646  \n",
       "6       0.466239      0.031322         0.507692        0.067646  \n",
       "7       0.465186      0.030829         0.507692        0.067646  \n",
       "8       0.479186      0.047214         0.507692        0.067646  \n",
       "9       0.478660      0.047243         0.507692        0.067646  "
      ]
     },
     "execution_count": 182,
     "metadata": {},
     "output_type": "execute_result"
    }
   ],
   "source": [
    "df"
   ]
  },
  {
   "cell_type": "code",
   "execution_count": 183,
   "metadata": {},
   "outputs": [
    {
     "data": {
      "text/plain": [
       "0.4791862"
      ]
     },
     "execution_count": 183,
     "metadata": {},
     "output_type": "execute_result"
    }
   ],
   "source": [
    "np.max(df['test-auc-mean'].values)"
   ]
  },
  {
   "cell_type": "code",
   "execution_count": 36,
   "metadata": {},
   "outputs": [
    {
     "data": {
      "image/png": "[encoded data removed]",
      "text/plain": [
       "<Figure size 432x288 with 1 Axes>"
      ]
     },
     "metadata": {},
     "output_type": "display_data"
    }
   ],
   "source": [
    "ax1=xgb.plot_tree(bst, num_trees=2)"
   ]
  },
  {
   "cell_type": "code",
   "execution_count": 49,
   "metadata": {},
   "outputs": [
    {
     "name": "stderr",
     "output_type": "stream",
     "text": [
      "[Parallel(n_jobs=1)]: Using backend SequentialBackend with 1 concurrent workers.\n",
      "[Parallel(n_jobs=1)]: Done   1 out of   1 | elapsed:    0.0s remaining:    0.0s\n",
      "[Parallel(n_jobs=1)]: Done  25 out of  25 | elapsed:    0.6s finished\n",
      "\n",
      "[2019-06-03 13:43:50] Features: 1/10 -- score: 0.5176864357017029[Parallel(n_jobs=1)]: Using backend SequentialBackend with 1 concurrent workers.\n",
      "[Parallel(n_jobs=1)]: Done   1 out of   1 | elapsed:    0.0s remaining:    0.0s\n",
      "[Parallel(n_jobs=1)]: Done  24 out of  24 | elapsed:    0.6s finished\n",
      "\n",
      "[2019-06-03 13:43:51] Features: 2/10 -- score: 0.5192248972401645[Parallel(n_jobs=1)]: Using backend SequentialBackend with 1 concurrent workers.\n",
      "[Parallel(n_jobs=1)]: Done   1 out of   1 | elapsed:    0.0s remaining:    0.0s\n",
      "[Parallel(n_jobs=1)]: Done  23 out of  23 | elapsed:    0.6s finished\n",
      "\n",
      "[2019-06-03 13:43:51] Features: 3/10 -- score: 0.5176981796829125[Parallel(n_jobs=1)]: Using backend SequentialBackend with 1 concurrent workers.\n",
      "[Parallel(n_jobs=1)]: Done   1 out of   1 | elapsed:    0.0s remaining:    0.0s\n",
      "[Parallel(n_jobs=1)]: Done  22 out of  22 | elapsed:    1.1s finished\n",
      "\n",
      "[2019-06-03 13:43:52] Features: 4/10 -- score: 0.5176981796829125[Parallel(n_jobs=1)]: Using backend SequentialBackend with 1 concurrent workers.\n",
      "[Parallel(n_jobs=1)]: Done   1 out of   1 | elapsed:    0.0s remaining:    0.0s\n",
      "[Parallel(n_jobs=1)]: Done  21 out of  21 | elapsed:    1.1s finished\n",
      "\n",
      "[2019-06-03 13:43:54] Features: 5/10 -- score: 0.519236641221374[Parallel(n_jobs=1)]: Using backend SequentialBackend with 1 concurrent workers.\n",
      "[Parallel(n_jobs=1)]: Done   1 out of   1 | elapsed:    0.0s remaining:    0.0s\n",
      "[Parallel(n_jobs=1)]: Done  20 out of  20 | elapsed:    1.1s finished\n",
      "\n",
      "[2019-06-03 13:43:55] Features: 6/10 -- score: 0.5161597181444509[Parallel(n_jobs=1)]: Using backend SequentialBackend with 1 concurrent workers.\n",
      "[Parallel(n_jobs=1)]: Done   1 out of   1 | elapsed:    0.0s remaining:    0.0s\n",
      "[Parallel(n_jobs=1)]: Done  19 out of  19 | elapsed:    1.1s finished\n",
      "\n",
      "[2019-06-03 13:43:56] Features: 7/10 -- score: 0.5130827950675279[Parallel(n_jobs=1)]: Using backend SequentialBackend with 1 concurrent workers.\n",
      "[Parallel(n_jobs=1)]: Done   1 out of   1 | elapsed:    0.0s remaining:    0.0s\n",
      "[Parallel(n_jobs=1)]: Done  18 out of  18 | elapsed:    1.0s finished\n",
      "\n",
      "[2019-06-03 13:43:57] Features: 8/10 -- score: 0.5038520258367587[Parallel(n_jobs=1)]: Using backend SequentialBackend with 1 concurrent workers.\n",
      "[Parallel(n_jobs=1)]: Done   1 out of   1 | elapsed:    0.0s remaining:    0.0s\n",
      "[Parallel(n_jobs=1)]: Done  17 out of  17 | elapsed:    1.0s finished\n",
      "\n",
      "[2019-06-03 13:43:58] Features: 9/10 -- score: 0.5038520258367587[Parallel(n_jobs=1)]: Using backend SequentialBackend with 1 concurrent workers.\n",
      "[Parallel(n_jobs=1)]: Done   1 out of   1 | elapsed:    0.0s remaining:    0.0s\n"
     ]
    },
    {
     "name": "stdout",
     "output_type": "stream",
     "text": [
      "[0, 3, 4, 5, 6, 7, 8, 10, 15, 22]\n",
      "HDD65\n",
      "buildingAreaCategory\n",
      "climateZone\n",
      "MAINHT\n"
     ]
    },
    {
     "name": "stderr",
     "output_type": "stream",
     "text": [
      "[Parallel(n_jobs=1)]: Done  16 out of  16 | elapsed:    1.0s finished\n",
      "\n",
      "[2019-06-03 13:44:00] Features: 10/10 -- score: 0.5038520258367587"
     ]
    },
    {
     "ename": "IndexError",
     "evalue": "list index out of range",
     "output_type": "error",
     "traceback": [
      "\u001b[1;31m---------------------------------------------------------------------------\u001b[0m",
      "\u001b[1;31mIndexError\u001b[0m                                Traceback (most recent call last)",
      "\u001b[1;32m<ipython-input-49-47eae29fa781>\u001b[0m in \u001b[0;36m<module>\u001b[1;34m()\u001b[0m\n\u001b[0;32m     12\u001b[0m \u001b[0mprint\u001b[0m\u001b[1;33m(\u001b[0m\u001b[0mfeat_cols\u001b[0m\u001b[1;33m)\u001b[0m\u001b[1;33m\u001b[0m\u001b[0m\n\u001b[0;32m     13\u001b[0m \u001b[1;32mfor\u001b[0m \u001b[0mi\u001b[0m \u001b[1;32min\u001b[0m \u001b[0mfeat_cols\u001b[0m\u001b[1;33m:\u001b[0m\u001b[1;33m\u001b[0m\u001b[0m\n\u001b[1;32m---> 14\u001b[1;33m     \u001b[0mprint\u001b[0m\u001b[1;33m(\u001b[0m\u001b[0mallFeatures\u001b[0m\u001b[1;33m[\u001b[0m\u001b[0mi\u001b[0m\u001b[1;33m]\u001b[0m\u001b[1;33m)\u001b[0m\u001b[1;33m\u001b[0m\u001b[0m\n\u001b[0m",
      "\u001b[1;31mIndexError\u001b[0m: list index out of range"
     ]
    }
   ],
   "source": [
    "clf = Pipeline(steps=[('classifier', svm.SVC(gamma='auto'))])\n",
    "sfs1 = sfs(clf,\n",
    "           k_features=10,\n",
    "           forward=True,\n",
    "           floating=False,\n",
    "           verbose=2,\n",
    "           scoring='accuracy',\n",
    "           cv=5)\n",
    "# Perform SFFS\n",
    "sfs1 = sfs1.fit(X_train,y_train)\n",
    "feat_cols = list(sfs1.k_feature_idx_)\n",
    "print(feat_cols)\n",
    "for i in feat_cols:\n",
    "    print(allFeatures[i])"
   ]
  },
  {
   "cell_type": "code",
   "execution_count": null,
   "metadata": {},
   "outputs": [],
   "source": [
    "print(X_train)"
   ]
  },
  {
   "cell_type": "code",
   "execution_count": null,
   "metadata": {},
   "outputs": [],
   "source": []
  }
 ],
 "metadata": {
  "kernelspec": {
   "display_name": "Python 3",
   "language": "python",
   "name": "python3"
  },
  "language_info": {
   "codemirror_mode": {
    "name": "ipython",
    "version": 3
   },
   "file_extension": ".py",
   "mimetype": "text/x-python",
   "name": "python",
   "nbconvert_exporter": "python",
   "pygments_lexer": "ipython3",
   "version": "3.6.5"
  }
 },
 "nbformat": 4,
 "nbformat_minor": 2
}
