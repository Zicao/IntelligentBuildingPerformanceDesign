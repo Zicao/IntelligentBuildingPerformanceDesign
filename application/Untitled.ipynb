{
 "cells": [
  {
   "cell_type": "code",
   "execution_count": 16,
   "metadata": {},
   "outputs": [],
   "source": [
    "from sklearn.compose import ColumnTransformer\n",
    "from sklearn.pipeline import Pipeline\n",
    "from sklearn.impute import SimpleImputer\n",
    "from sklearn.preprocessing import StandardScaler, OneHotEncoder\n",
    "import xgboost as xgb\n",
    "import pandas as pd\n",
    "import numpy as np\n",
    "from sklearn.model_selection import train_test_split, GridSearchCV"
   ]
  },
  {
   "cell_type": "code",
   "execution_count": 10,
   "metadata": {},
   "outputs": [],
   "source": [
    "def get_auc(indexList):\n",
    "    CBECS_mat= pd.read_pickle('C:\\\\Users\\\\tzcha\\\\Documents\\\\aibpd\\\\application\\\\CBECS_4heating_clf.plk')\n",
    "    allFeature=['buildingAreaCategory','buildingShape','censusRegion','climateZone','HDD65',\n",
    "                    'HVACUpgrade','insulationUpgrade','MAINHT','MONUSEC',\n",
    "                      'OWNTYPE', 'region','RENWLL','roofConstruction','wallConstruction',\n",
    "                        'WHOPPR','WINTYP','WKHRSC','WWR','yearOfConstruction']\n",
    "    al=np.array(allFeature)\n",
    "    al_iter=list(al[indexList])\n",
    "    mainFeaturesCBECS_Categorical=[]\n",
    "    mainFeaturesCBECS_numeric=[]\n",
    "    mainFeaturesCBECS_Categorical1=['buildingAreaCategory','buildingShape',\n",
    "                    'censusRegion','climateZone','HVACUpgrade',\n",
    "                    'insulationUpgrade','MAINHT','MONUSEC','OWNTYPE', \n",
    "                    'region','RENWLL','roofConstruction','wallConstruction',\n",
    "                        'WHOPPR','WINTYP','WKHRSC']\n",
    "    mainFeaturesCBECS_numeric1=['HDD65','WWR','yearOfConstruction']\n",
    "    for feature in al_iter:\n",
    "        if feature in mainFeaturesCBECS_numeric1:\n",
    "            mainFeaturesCBECS_numeric.append(feature)\n",
    "        elif feature in mainFeaturesCBECS_Categorical1:\n",
    "            mainFeaturesCBECS_Categorical.append(feature)\n",
    "\n",
    "    categorical_transformer = Pipeline(steps=[\n",
    "        ('imputer', SimpleImputer(strategy='constant', fill_value=0)),\n",
    "        ('onehot', OneHotEncoder(handle_unknown='ignore'))])\n",
    "    numeric_transformer = Pipeline(steps=[('imputer', SimpleImputer(strategy='median')),\n",
    "        ('scaler', StandardScaler())])\n",
    "    preprocessor = ColumnTransformer(transformers=[('num', numeric_transformer,mainFeaturesCBECS_numeric),\n",
    "            ('cat', categorical_transformer,mainFeaturesCBECS_Categorical)])\n",
    "    \n",
    "    X=preprocessor.fit_transform(CBECS_mat[al_iter])\n",
    "    y=CBECS_mat['heatingLevel']\n",
    "    \n",
    "    from sklearn.model_selection import KFold\n",
    "    kf = KFold(n_splits=5)\n",
    "    errorList=[]\n",
    "    X1=X.values\n",
    "    Y1=y.values\n",
    "    for train_index, test_index in kf.split(X1,Y1):\n",
    "        print(train_index)\n",
    "        X_train, X_test = X1[train_index], X1[test_index]\n",
    "        y_train, y_test = Y1[train_index], Y1[test_index]\n",
    "        dtrain = xgb.DMatrix(X_train, label=y_train)\n",
    "        dtest = xgb.DMatrix(X_test, label=y_test)\n",
    "        param = {'max_depth': 2, 'eta': 0.8, 'verbosity': 1, 'objective': 'binary:logistic','gamma':0.5}\n",
    "        param['nthread'] = 4\n",
    "        param['eval_metric'] = 'auc'\n",
    "        evallist = [(dtrain, 'train'),(dtest, 'test')]\n",
    "        num_round = 20\n",
    "\n",
    "        bst = xgb.train(param,dtrain, num_round,evallist,\n",
    "                callbacks=[xgb.callback.print_evaluation(show_stdv=False),\n",
    "                xgb.callback.early_stop(3)])\n",
    "        error=1-bst.best_score\n",
    "        errorList.append(error)\n",
    "    error2=np.mean(errorList)\n",
    "    print(error2)\n",
    "    return error2"
   ]
  },
  {
   "cell_type": "code",
   "execution_count": 13,
   "metadata": {},
   "outputs": [],
   "source": [
    "def logregobj(preds, dtrain):\n",
    "    labels = dtrain.get_label()\n",
    "    preds = 1.0 / (1.0 + np.exp(-preds))\n",
    "    grad = preds - labels\n",
    "    hess = preds * (1.0 - preds)\n",
    "    return grad, hess\n",
    "def evalerror(preds, dtrain):\n",
    "    labels = dtrain.get_label()\n",
    "    return 'error', float(sum(labels != (preds > 0.0))) / len(labels)"
   ]
  },
  {
   "cell_type": "code",
   "execution_count": 24,
   "metadata": {},
   "outputs": [],
   "source": [
    "def get_auc_cv(indexList):\n",
    "    CBECS_mat= pd.read_pickle('C:\\\\Users\\\\tzcha\\\\Documents\\\\aibpd\\\\application\\\\CBECS_4heating_clf.plk')\n",
    "    allFeature=['buildingAreaCategory','buildingShape','censusRegion','climateZone','HDD65',\n",
    "                    'HVACUpgrade','insulationUpgrade','MAINHT','MONUSEC',\n",
    "                      'OWNTYPE', 'region','RENWLL','roofConstruction','wallConstruction',\n",
    "                        'WHOPPR','WINTYP','WKHRSC','WWR','yearOfConstruction']\n",
    "    al=np.array(allFeature)\n",
    "    al_iter=list(al[indexList])\n",
    "    mainFeaturesCBECS_Categorical=[]\n",
    "    mainFeaturesCBECS_numeric=[]\n",
    "    mainFeaturesCBECS_Categorical1=['buildingAreaCategory','buildingShape',\n",
    "                    'censusRegion','climateZone','HVACUpgrade',\n",
    "                    'insulationUpgrade','MAINHT','MONUSEC','OWNTYPE', \n",
    "                    'region','RENWLL','roofConstruction','wallConstruction',\n",
    "                        'WHOPPR','WINTYP','WKHRSC']\n",
    "    mainFeaturesCBECS_numeric1=['HDD65','WWR','yearOfConstruction']\n",
    "    for feature in al_iter:\n",
    "        if feature in mainFeaturesCBECS_numeric1:\n",
    "            mainFeaturesCBECS_numeric.append(feature)\n",
    "        elif feature in mainFeaturesCBECS_Categorical1:\n",
    "            mainFeaturesCBECS_Categorical.append(feature)\n",
    "\n",
    "    categorical_transformer = Pipeline(steps=[\n",
    "        ('imputer', SimpleImputer(strategy='constant', fill_value=0)),\n",
    "        ('onehot', OneHotEncoder(handle_unknown='ignore'))])\n",
    "    numeric_transformer = Pipeline(steps=[('imputer', SimpleImputer(strategy='median')),\n",
    "        ('scaler', StandardScaler())])\n",
    "    preprocessor = ColumnTransformer(transformers=[('num', numeric_transformer,mainFeaturesCBECS_numeric),\n",
    "            ('cat', categorical_transformer,mainFeaturesCBECS_Categorical)])\n",
    "    \n",
    "    X=preprocessor.fit_transform(CBECS_mat[al_iter])\n",
    "    y=CBECS_mat['heatingLevel']\n",
    "    X_train, X_test, y_train, y_test = train_test_split(X, y, test_size=0.2)\n",
    "    dtrain = xgb.DMatrix(X_train, label=y_train)\n",
    "    dtest = xgb.DMatrix(X_test,label=y_test)\n",
    "    \n",
    "    param = {'max_depth': 2, 'eta': 0.8, 'verbosity': 1, 'objective': 'binary:logistic','gamma':0.5}\n",
    "    param['nthread'] = 4\n",
    "    param['eval_metric'] = 'auc'\n",
    "    evallist = [(dtrain, 'train'),(dtest, 'test')]\n",
    "    num_round = 10\n",
    "    \n",
    "    df=xgb.cv(param, dtrain, num_round, nfold=5, metrics={'auc'},seed=0, obj=logregobj, feval=evalerror)\n",
    "    error = 1- np.max(df['test-auc-mean'].values)\n",
    "    print(error)\n",
    "    return error"
   ]
  },
  {
   "cell_type": "code",
   "execution_count": 50,
   "metadata": {},
   "outputs": [],
   "source": [
    "indexList=[0, 2,3,7, 8, 9, 10,11,15,17]"
   ]
  },
  {
   "cell_type": "code",
   "execution_count": 51,
   "metadata": {},
   "outputs": [
    {
     "name": "stdout",
     "output_type": "stream",
     "text": [
      "0.21305619999999992\n"
     ]
    },
    {
     "name": "stderr",
     "output_type": "stream",
     "text": [
      "C:\\Users\\tzcha\\Anaconda3\\lib\\site-packages\\xgboost\\core.py:587: FutureWarning: Series.base is deprecated and will be removed in a future version\n",
      "  if getattr(data, 'base', None) is not None and \\\n"
     ]
    }
   ],
   "source": [
    "auc=get_auc_cv(indexList)"
   ]
  },
  {
   "cell_type": "code",
   "execution_count": null,
   "metadata": {},
   "outputs": [],
   "source": []
  }
 ],
 "metadata": {
  "kernelspec": {
   "display_name": "Python 3",
   "language": "python",
   "name": "python3"
  },
  "language_info": {
   "codemirror_mode": {
    "name": "ipython",
    "version": 3
   },
   "file_extension": ".py",
   "mimetype": "text/x-python",
   "name": "python",
   "nbconvert_exporter": "python",
   "pygments_lexer": "ipython3",
   "version": "3.6.5"
  }
 },
 "nbformat": 4,
 "nbformat_minor": 2
}
