{
 "cells": [
  {
   "cell_type": "code",
   "execution_count": 132,
   "metadata": {},
   "outputs": [],
   "source": [
    "from sklearn.compose import ColumnTransformer\n",
    "from sklearn.pipeline import Pipeline\n",
    "from sklearn.impute import SimpleImputer\n",
    "from sklearn.preprocessing import StandardScaler, OneHotEncoder\n",
    "import pandas as pd\n",
    "import numpy as np\n",
    "from sklearn.tree import DecisionTreeClassifier"
   ]
  },
  {
   "cell_type": "code",
   "execution_count": 133,
   "metadata": {},
   "outputs": [],
   "source": [
    "from sklearn.model_selection import train_test_split, GridSearchCV"
   ]
  },
  {
   "cell_type": "code",
   "execution_count": 134,
   "metadata": {},
   "outputs": [
    {
     "name": "stdout",
     "output_type": "stream",
     "text": [
      "Please select a database to continue the analysis\n",
      "CBECS2012.csv has been loaded.\n",
      "Your selected dataframe has 23 columns.\n",
      "There are 8 columns that have missing values.\n",
      "                   Missing Values  % of Total Values\n",
      "MAINCL                        684               10.2\n",
      "buildingShape                 614                9.1\n",
      "WWR                           614                9.1\n",
      "MAINHT                        534                7.9\n",
      "HVACUpgrade                   361                5.4\n",
      "insulationUpgrade             361                5.4\n",
      "RENWLL                        361                5.4\n",
      "lightingUpgrade               361                5.4\n"
     ]
    }
   ],
   "source": [
    "from aibpd.data.preprocessing import PreprocessingCBECS\n",
    "from aibpd.data.database import Database\n",
    "database=Database(file_path='CBECS2012.csv')"
   ]
  },
  {
   "cell_type": "code",
   "execution_count": null,
   "metadata": {},
   "outputs": [],
   "source": []
  }
 ],
 "metadata": {
  "kernelspec": {
   "display_name": "Python 3",
   "language": "python",
   "name": "python3"
  },
  "language_info": {
   "codemirror_mode": {
    "name": "ipython",
    "version": 3
   },
   "file_extension": ".py",
   "mimetype": "text/x-python",
   "name": "python",
   "nbconvert_exporter": "python",
   "pygments_lexer": "ipython3",
   "version": "3.6.5"
  }
 },
 "nbformat": 4,
 "nbformat_minor": 2
}
