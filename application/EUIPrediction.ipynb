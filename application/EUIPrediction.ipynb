{
 "cells": [
  {
   "cell_type": "markdown",
   "metadata": {},
   "source": [
    "#Predition EUI using regression algorithms. First of all, load the dataset."
   ]
  },
  {
   "cell_type": "code",
   "execution_count": 1,
   "metadata": {},
   "outputs": [
    {
     "name": "stdout",
     "output_type": "stream",
     "text": [
      "Please select a database to continue the analysis\n",
      "Dataset in C:/Users/tzcha/Documents/aibpd/resources/CBECS2012.csv has been loaded!\n"
     ]
    }
   ],
   "source": [
    "from aibpd.data.database import Database\n",
    "from aibpd.data.preprocessing import PreprocessingCBECS\n",
    "import numpy as np\n",
    "import pandas as pd\n",
    "db=Database()\n",
    "CBECS_DF=db.select()"
   ]
  },
  {
   "cell_type": "code",
   "execution_count": 4,
   "metadata": {},
   "outputs": [
    {
     "ename": "ModuleNotFoundError",
     "evalue": "No module named 'sklearn.impute'",
     "output_type": "error",
     "traceback": [
      "\u001b[1;31m---------------------------------------------------------------------------\u001b[0m",
      "\u001b[1;31mModuleNotFoundError\u001b[0m                       Traceback (most recent call last)",
      "\u001b[1;32m<ipython-input-4-b67da589eb33>\u001b[0m in \u001b[0;36m<module>\u001b[1;34m()\u001b[0m\n\u001b[1;32m----> 1\u001b[1;33m \u001b[1;32mfrom\u001b[0m \u001b[0msklearn\u001b[0m\u001b[1;33m.\u001b[0m\u001b[0mimpute\u001b[0m \u001b[1;32mimport\u001b[0m \u001b[0mSimpleImputer\u001b[0m\u001b[1;33m\u001b[0m\u001b[0m\n\u001b[0m\u001b[0;32m      2\u001b[0m \u001b[0mimp\u001b[0m \u001b[1;33m=\u001b[0m \u001b[0mSimpleImputer\u001b[0m\u001b[1;33m(\u001b[0m\u001b[0mmissing_values\u001b[0m\u001b[1;33m=\u001b[0m\u001b[0mnp\u001b[0m\u001b[1;33m.\u001b[0m\u001b[0mnan\u001b[0m\u001b[1;33m,\u001b[0m \u001b[0mstrategy\u001b[0m\u001b[1;33m=\u001b[0m\u001b[1;34m'mean'\u001b[0m\u001b[1;33m)\u001b[0m\u001b[1;33m\u001b[0m\u001b[0m\n\u001b[0;32m      3\u001b[0m \u001b[0mimp\u001b[0m\u001b[1;33m.\u001b[0m\u001b[0mfit\u001b[0m\u001b[1;33m(\u001b[0m\u001b[0mCBECS_DF\u001b[0m\u001b[1;33m)\u001b[0m\u001b[1;33m\u001b[0m\u001b[0m\n",
      "\u001b[1;31mModuleNotFoundError\u001b[0m: No module named 'sklearn.impute'"
     ]
    }
   ],
   "source": [
    "from sklearn.impute import SimpleImputer\n",
    "imp = SimpleImputer(missing_values=np.nan, strategy='mean')\n",
    "imp.fit(CBECS_DF)"
   ]
  },
  {
   "cell_type": "code",
   "execution_count": 19,
   "metadata": {},
   "outputs": [],
   "source": [
    "#preprocessing for regression\n",
    "prep4eui=PreprocessingCBECS()\n",
    "CBECS_DF=prep4eui.prep4EUIReg(CBECS_DF)"
   ]
  },
  {
   "cell_type": "code",
   "execution_count": 20,
   "metadata": {},
   "outputs": [],
   "source": [
    "CBECS_DF=CBECS_DF[CBECS_DF['principleActivity']>=2][CBECS_DF['principleActivity']<3]\n",
    "CBECS_DF=CBECS_DF.dropna()\n",
    "CBECS_DF['MONUSEC']=pd.cut(CBECS_DF['MONUSE'],[0,6,9,10,13],labels=[1,2,3,4])\n",
    "CBECS_DF['OCCUPYPC']=pd.cut(CBECS_DF['OCCUPYP'],5,labels=range(5))\n",
    "CBECS_DF['HEATPC']=pd.cut(CBECS_DF['HEATP'],[-10,50,90,101],labels=[1,2,3])\n",
    "CBECS_DF['MONUSEC']=CBECS_DF['MONUSEC'].astype('int')\n",
    "CBECS_DF['OCCUPYPC']=CBECS_DF['OCCUPYPC'].astype('int')\n",
    "CBECS_DF['HEATPC']=CBECS_DF['HEATPC'].astype('int')\n",
    "CBECS_DF['EUI']=CBECS_DF['EUI'].astype('float')"
   ]
  },
  {
   "cell_type": "code",
   "execution_count": 21,
   "metadata": {},
   "outputs": [],
   "source": [
    "db.datasetDF=CBECS_DF"
   ]
  },
  {
   "cell_type": "code",
   "execution_count": 23,
   "metadata": {},
   "outputs": [
    {
     "name": "stdout",
     "output_type": "stream",
     "text": [
      "datasetDF has been saved to C:/Users/tzcha/Documents/aibpd/resources/CBECS4Reg.csv\n"
     ]
    }
   ],
   "source": [
    "db.save('CBECS4Reg')"
   ]
  },
  {
   "cell_type": "code",
   "execution_count": 10,
   "metadata": {},
   "outputs": [],
   "source": [
    "featureList=['buildingAreaCategory','buildingShape','censusRegion','climateZone','HDD65',\\\n",
    "            'HEATPC','HVACUpgrade','insulationUpgrade','MAINCL','MAINHT','MONUSEC','numEmployeesCategory',\\\n",
    "             'numFloors','OCCUPYP','OPNWE',\\\n",
    "            'OWNTYPE', 'region','RENWLL','lightingUpgrade','roofConstuction','STUSED',\\\n",
    "            'OPEN24','wallConstruction',\\\n",
    "            'WHOPPR','WINTYP','WKHRSC','WWR','yrConstructionCategory','EUI']\n",
    "corrMattDF=CBECS_DF[featureList]\n",
    "column=featureList"
   ]
  },
  {
   "cell_type": "code",
   "execution_count": 24,
   "metadata": {},
   "outputs": [
    {
     "name": "stdout",
     "output_type": "stream",
     "text": [
      "input a value3\n"
     ]
    }
   ],
   "source": [
    "x=input('input a value')"
   ]
  },
  {
   "cell_type": "code",
   "execution_count": 18,
   "metadata": {},
   "outputs": [
    {
     "data": {
      "text/plain": [
       "[2.0, 0.0, 1.0]"
      ]
     },
     "execution_count": 18,
     "metadata": {},
     "output_type": "execute_result"
    }
   ],
   "source": [
    "boroughs = list(boroughs[boroughs.values > 100].index)\n",
    "boroughs"
   ]
  },
  {
   "cell_type": "code",
   "execution_count": 6,
   "metadata": {},
   "outputs": [
    {
     "name": "stdout",
     "output_type": "stream",
     "text": [
      "datasetDF has been saved to C:/Users/tzcha/Documents/aibpd/resources/CBECS4Reg.csv\n"
     ]
    }
   ],
   "source": [
    "db.save(name='CBECS4Reg')"
   ]
  },
  {
   "cell_type": "code",
   "execution_count": 34,
   "metadata": {},
   "outputs": [
    {
     "name": "stderr",
     "output_type": "stream",
     "text": [
      "[Parallel(n_jobs=1)]: Done   1 out of   1 | elapsed:    0.1s remaining:    0.0s\n",
      "[Parallel(n_jobs=1)]: Done  28 out of  28 | elapsed:    5.4s finished\n",
      "\n",
      "[2019-05-09 16:48:06] Features: 1/5 -- score: -0.04721480608460511[Parallel(n_jobs=1)]: Done   1 out of   1 | elapsed:    0.1s remaining:    0.0s\n",
      "[Parallel(n_jobs=1)]: Done  27 out of  27 | elapsed:    5.4s finished\n",
      "\n",
      "[2019-05-09 16:48:12] Features: 2/5 -- score: -0.04364721025698781[Parallel(n_jobs=1)]: Done   1 out of   1 | elapsed:    0.1s remaining:    0.0s\n",
      "[Parallel(n_jobs=1)]: Done  26 out of  26 | elapsed:    5.3s finished\n",
      "\n",
      "[2019-05-09 16:48:17] Features: 3/5 -- score: -0.04288109806714937[Parallel(n_jobs=1)]: Done   1 out of   1 | elapsed:    0.1s remaining:    0.0s\n",
      "[Parallel(n_jobs=1)]: Done  25 out of  25 | elapsed:    5.1s finished\n",
      "\n",
      "[2019-05-09 16:48:23] Features: 4/5 -- score: -0.04259167047636212[Parallel(n_jobs=1)]: Done   1 out of   1 | elapsed:    0.1s remaining:    0.0s\n"
     ]
    },
    {
     "name": "stdout",
     "output_type": "stream",
     "text": [
      "[5, 11, 15, 21, 25]\n"
     ]
    },
    {
     "name": "stderr",
     "output_type": "stream",
     "text": [
      "[Parallel(n_jobs=1)]: Done  24 out of  24 | elapsed:    5.0s finished\n",
      "\n",
      "[2019-05-09 16:48:28] Features: 5/5 -- score: -0.042394580225644685"
     ]
    }
   ],
   "source": [
    "#feature selection\n",
    "from sklearn import svm\n",
    "from sklearn.model_selection import train_test_split\n",
    "from sklearn.metrics import accuracy_score as acc\n",
    "from mlxtend.feature_selection import SequentialFeatureSelector as sfs\n",
    "#for j in range(1,25):\n",
    "    #print('Training dataset shape:', X_train.shape, y_train.shape)\n",
    "    #print('Testing dataset shape:', X_test.shape, y_test.shape)\n",
    "    #j1=25-j\n",
    "clf = svm.SVR(gamma=0.001, C=1.0, epsilon=0.2)\n",
    "sfs1 = sfs(clf,\n",
    "           k_features=5,\n",
    "           forward=True,\n",
    "           floating=False,\n",
    "           verbose=2,\n",
    "           scoring='r2',\n",
    "           cv=5)\n",
    "\n",
    "sfs1 = sfs1.fit(corrMattDF.values[:,:-1], corrMattDF.values[:,-1])\n",
    "feat_cols = list(sfs1.k_feature_idx_)\n",
    "print(feat_cols)"
   ]
  },
  {
   "cell_type": "code",
   "execution_count": 8,
   "metadata": {},
   "outputs": [],
   "source": [
    "X_train, X_test, y_train, y_test = train_test_split(\n",
    "    corrMattDF.values[:,:-1],\n",
    "    corrMattDF.values[:,-1],\n",
    "    test_size=0.2,\n",
    "    random_state=42)\n",
    "y_train = y_train.ravel()\n",
    "y_test = y_test.ravel()"
   ]
  },
  {
   "cell_type": "code",
   "execution_count": 10,
   "metadata": {},
   "outputs": [
    {
     "name": "stdout",
     "output_type": "stream",
     "text": [
      "-0.04228885275308447\n"
     ]
    }
   ],
   "source": [
    "from sklearn.model_selection import KFold\n",
    "kf = KFold(n_splits=5)\n",
    "errorList=[]\n",
    "X1=corrMattDF.values[:,[4,6,12,16,26]]\n",
    "Y1=corrMattDF.values[:,-1]\n",
    "for train_index, test_index in kf.split(X1,Y1):\n",
    "    X_train, X_test = X1[train_index], X1[test_index]\n",
    "    y_train, y_test = Y1[train_index], Y1[test_index]\n",
    "    clf2 = svm.SVR(gamma=0.001, C=1.0, epsilon=0.2)\n",
    "    clf2.fit(X_train,y_train) \n",
    "    error=1-clf2.score(X_test,y_test)\n",
    "    errorList.append(error)\n",
    "error2=np.mean(errorList)\n",
    "print(1-error2)"
   ]
  },
  {
   "cell_type": "code",
   "execution_count": 11,
   "metadata": {},
   "outputs": [],
   "source": [
    "m,n=corrMattDF.shape"
   ]
  },
  {
   "cell_type": "code",
   "execution_count": 27,
   "metadata": {},
   "outputs": [
    {
     "data": {
      "text/plain": [
       "SVR(C=1.0, cache_size=200, coef0=0.0, degree=3, epsilon=0.2, gamma=0.001,\n",
       "  kernel='rbf', max_iter=-1, shrinking=True, tol=0.001, verbose=False)"
      ]
     },
     "execution_count": 27,
     "metadata": {},
     "output_type": "execute_result"
    }
   ],
   "source": [
    "m_train=int(0.8*m)\n",
    "clf3 = svm.SVR(gamma=0.001, C=1.0, epsilon=0.2)\n",
    "clf3.fit(corrMattDF.values[:m_train,:-1],corrMattDF.values[:m_train,-1])"
   ]
  },
  {
   "cell_type": "code",
   "execution_count": 28,
   "metadata": {},
   "outputs": [
    {
     "name": "stdout",
     "output_type": "stream",
     "text": [
      "[59.50190628] y 39.78\n",
      "[58.18522034] y 59.840812\n",
      "[62.74369042] y 123.93555294117647\n",
      "[58.99929213] y 42.46987\n",
      "[57.29161129] y 124.66727272727273\n",
      "[63.64901043] y 44.16577777777778\n",
      "[59.54787279] y 30.802976\n",
      "[58.42282967] y 48.28807692307692\n",
      "[60.35459634] y 43.65266666666667\n",
      "[61.71456779] y 99.02422975770243\n",
      "[58.83373505] y 67.55933333333333\n",
      "[57.39451672] y 42.228125\n",
      "[61.30105259] y 104.00471571428571\n",
      "[59.11199935] y 137.202\n",
      "[61.04054519] y 51.8625\n",
      "[59.73590764] y 124.67267567567568\n",
      "[58.5537326] y 104.86287878787878\n",
      "[60.8001074] y 54.69639344262295\n",
      "[64.43516183] y 143.07925333333333\n",
      "[61.49107998] y 19.2244375\n",
      "[61.42856613] y 34.99127272727273\n",
      "[55.48043353] y 63.55672\n",
      "[60.09477606] y 37.934416666666664\n",
      "[60.21007188] y 446.69026\n",
      "[56.24560135] y 82.55198666666666\n",
      "[59.2741486] y 93.74834166666666\n",
      "[59.20329506] y 46.80758\n",
      "[58.84537224] y 79.89874929577465\n",
      "[58.91304263] y 107.44053142857143\n",
      "[60.43673808] y 135.2490909090909\n",
      "[61.48172075] y 42.231764705882355\n",
      "[58.84758563] y 98.5862\n",
      "[60.70573607] y 131.37155555555555\n",
      "[60.21015569] y 45.458648333333336\n",
      "[61.19031848] y 68.44970588235294\n",
      "[59.8120365] y 61.112026666666665\n",
      "[58.20403928] y 147.72960975609757\n",
      "[63.54091314] y 18.551333333333332\n",
      "[56.91989904] y 47.395393258426964\n",
      "[59.81096931] y 112.4753809847606\n",
      "[60.12072074] y 83.44788142857143\n",
      "[60.86077595] y 32.64326086956522\n",
      "[57.88883493] y 164.10514285714285\n",
      "[57.22957257] y 33.27033333333333\n",
      "[59.23171157] y 37.745\n",
      "[60.90563529] y 44.53742428571429\n",
      "[61.44515471] y 8.094318181818181\n",
      "[62.17361084] y 76.41928813559322\n",
      "[62.1985862] y 183.42454545454547\n",
      "[59.00992921] y 36.233318181818184\n",
      "[57.74087873] y 78.55130392156863\n",
      "[61.90410138] y 110.1333806451613\n",
      "[60.68837449] y 15.9832\n",
      "[59.70381978] y 149.4255294117647\n",
      "[64.5527594] y 119.02392\n",
      "[58.89606384] y 85.86858227848101\n",
      "[58.35027485] y 166.8115\n",
      "[59.55736533] y 61.975833333333334\n",
      "[60.85347786] y 86.5883606557377\n",
      "[59.38204357] y 41.130025\n",
      "[61.91807503] y 72.98117647058824\n",
      "[60.48821446] y 61.427183673469386\n",
      "[58.78077206] y 52.29454545454546\n",
      "[61.41326919] y 41.735643835616436\n",
      "[61.83246459] y 43.69731730769231\n",
      "[61.06357886] y 134.8935759493671\n",
      "[59.94797671] y 26.03057692307692\n",
      "[63.20033978] y 122.66458333333334\n",
      "[57.87321862] y 50.945\n",
      "[64.76093459] y 41.68561403508772\n",
      "[61.79043808] y 76.66035714285714\n",
      "[58.9813989] y 57.04313253012048\n",
      "[62.13230374] y 52.92870909090909\n",
      "[59.26202098] y 47.79047619047619\n",
      "[61.79411528] y 76.0282888888889\n",
      "[60.10951181] y 64.05863529411765\n",
      "[62.19739319] y 111.60569072164948\n",
      "[58.32585012] y 61.91588888888889\n",
      "[59.18867733] y 80.89266666666667\n",
      "[61.62761418] y 56.6702\n",
      "[60.80430623] y 123.41603636363637\n",
      "[57.69127035] y 48.45590163934426\n",
      "[58.04844536] y 238.78725\n",
      "[60.95596472] y 207.1380625\n",
      "[60.21007325] y 66.06361739130435\n",
      "[62.62454185] y 303.79148351648354\n",
      "[61.09548714] y 42.4752962962963\n",
      "[61.22342781] y 49.106488666666664\n",
      "[58.12346881] y 64.33108771929824\n",
      "[62.89475246] y 447.8942886597938\n",
      "[60.49050096] y 102.63066666666667\n",
      "[62.3382027] y 71.2090909090909\n",
      "[60.21006749] y 81.43821587301588\n",
      "[60.23328015] y 155.14440125\n",
      "[63.27494517] y 7.862857142857143\n",
      "[60.35453852] y 57.86902222222222\n",
      "[59.04042423] y 121.83965\n",
      "[57.04181342] y 8.198857142857143\n",
      "[61.50225049] y 64.63010344827586\n",
      "[60.161074] y 224.8155\n",
      "[58.5423485] y 22.875916666666665\n",
      "[57.8584488] y 102.835\n",
      "[59.98771878] y 39.90196721311475\n",
      "[61.56387019] y 73.0542052631579\n",
      "[61.67963386] y 78.579703125\n",
      "[58.86955768] y 53.721666666666664\n",
      "[59.99757238] y 65.931\n",
      "[60.73372415] y 93.2951030927835\n",
      "[59.68157247] y 80.73088888888888\n",
      "[58.41555886] y 41.560833333333335\n",
      "[61.66725954] y 52.93044444444445\n",
      "[58.53009158] y 69.250625\n",
      "[59.13158767] y 30.150962025316456\n",
      "[60.47093865] y 12.256303797468355\n",
      "[60.66434893] y 29.36735632183908\n",
      "[61.64962908] y 54.66455633802817\n",
      "[56.24281689] y 31.835849056603774\n",
      "[58.63826143] y 26.918305084745764\n",
      "[63.12182951] y 59.32465\n",
      "[58.58607959] y 116.60046875\n",
      "[60.20429048] y 7.877377049180327\n",
      "[59.09709984] y 73.11595428571428\n",
      "[58.9859364] y 64.1405294117647\n",
      "[60.14523615] y 98.421\n",
      "[62.92983854] y 93.87578222222223\n",
      "[63.08460179] y 50.78848101265823\n",
      "[56.69779048] y 71.63651315789474\n",
      "[62.06925187] y 53.43328684210526\n",
      "[60.08365829] y 9.172055555555556\n",
      "[57.14605651] y 156.0715\n",
      "[59.14504525] y 66.63657894736842\n",
      "[57.43173602] y 61.334545454545456\n",
      "[62.65062688] y 94.93265428571429\n",
      "[58.66741979] y 100.96445833333334\n",
      "[61.88689692] y 193.65517647058823\n",
      "[58.76520421] y 81.15472615384616\n",
      "[60.70723082] y 63.148940860215056\n",
      "[59.52603113] y 55.908\n",
      "[59.64100098] y 36.05\n",
      "[61.10430162] y 109.42669354838709\n",
      "[60.93532219] y 13.365566666666666\n",
      "[60.67321704] y 95.97575\n",
      "[62.62118989] y 71.2057\n",
      "[59.6411196] y 55.491875\n",
      "[61.69452379] y 78.4175\n",
      "[61.98049944] y 74.48088888888888\n",
      "[59.54615439] y 56.47330169491526\n",
      "[61.02916258] y 6.322677322677323\n",
      "[62.05222059] y 9.904242424242424\n",
      "[59.79282039] y 66.85518518518519\n",
      "[60.5113077] y 41.97802985074627\n",
      "[61.10536059] y 73.86915079365079\n",
      "[60.51095318] y 75.82750877192983\n",
      "[61.6371752] y 76.05197014925373\n",
      "[57.39203559] y 62.6212\n",
      "[57.43007118] y 63.95741666666667\n",
      "[60.21007248] y 72.99267868852459\n",
      "[61.03283629] y 92.65\n",
      "[59.77914772] y 40.02090909090909\n",
      "[59.01641405] y 66.67919191919192\n",
      "[61.66981745] y 75.78239622641509\n",
      "[59.41554489] y 27.82998113207547\n",
      "[58.31111524] y 145.2092\n",
      "[61.09387921] y 43.117066666666666\n",
      "[55.8173867] y 16.188\n",
      "[62.94716044] y 131.73735185185186\n",
      "[62.93394687] y 19.23766375\n",
      "[60.73651384] y 31.8064\n",
      "[61.30952727] y 56.717908\n",
      "[57.02369815] y 53.00788732394366\n",
      "[58.63082952] y 224.77358695652174\n",
      "[63.18691406] y 113.68386956521739\n",
      "[60.96178391] y 15.426456140350878\n",
      "[61.54669755] y 69.308982\n",
      "[53.69545234] y 20.939886363636365\n",
      "[61.48149503] y 74.04551020408164\n",
      "[60.87310545] y 158.9890654761905\n",
      "[61.08875312] y 94.98066666666666\n",
      "[58.92193231] y 20.6979793814433\n",
      "[59.9847133] y 64.35053421052632\n",
      "[59.1207223] y 100.48677966101695\n",
      "[58.52118648] y 23.282456140350877\n",
      "[58.88695192] y 48.248741573033705\n",
      "[61.9691425] y 17.848133333333333\n",
      "[60.91770396] y 78.94135333333334\n",
      "[59.98866236] y 15.115146067415731\n",
      "[61.27448921] y 51.8097\n",
      "[64.51276996] y 102.24305882352941\n",
      "[61.05557042] y 55.670848\n",
      "[62.37407574] y 77.59648524590163\n",
      "[61.81382896] y 17.5032\n",
      "[63.10414252] y 102.82850476190477\n",
      "[57.14786861] y 22.367857142857144\n",
      "[63.00274118] y 279.4236153846154\n",
      "[62.23801087] y 57.65015384615385\n",
      "[59.22681367] y 5.7209375\n",
      "[61.48304531] y 84.35928518518519\n",
      "[58.26896685] y 47.48916666666667\n",
      "[62.44592967] y 71.54903448275861\n",
      "[56.20416185] y 23.107777777777777\n",
      "[63.08024074] y 62.94083333333333\n",
      "[61.92192006] y 26.56996\n",
      "[62.76877981] y 71.18023255813954\n",
      "[60.31567694] y 62.68748085106383\n",
      "[58.04720011] y 33.0882\n",
      "[57.9785573] y 29.184545454545454\n",
      "[56.1297257] y 57.1995\n",
      "[61.22552812] y 69.794\n",
      "[61.27232252] y 62.95325925925926\n",
      "[58.72231002] y 69.78133333333334\n",
      "[56.51954103] y 40.401\n",
      "[61.18917831] y 112.25051351351351\n",
      "[59.59048524] y 100.26398630136987\n",
      "[60.97698431] y 33.619166666666665\n",
      "[61.75686896] y 118.36392156862745\n",
      "[58.07542813] y 232.79866666666666\n",
      "[56.97589062] y 52.77754716981132\n",
      "[59.6876369] y 11.176190476190476\n",
      "[61.23050238] y 143.6274603174603\n",
      "[56.72031901] y 24.47288888888889\n",
      "[61.53224255] y 38.645714285714284\n",
      "[59.53786903] y 41.969167142857145\n",
      "[58.49800036] y 178.13125\n",
      "[63.17283626] y 232.14171428571427\n",
      "[62.0627439] y 42.61096385542169\n",
      "[59.87068143] y 51.38013953488372\n",
      "[62.18328686] y 36.139546875\n",
      "[58.16951373] y 70.77752808988764\n",
      "[60.07168889] y 61.00667307692308\n",
      "[57.81585074] y 64.55318571428572\n",
      "[59.42562222] y 24.907628865979383\n",
      "[61.54596429] y 47.01658108108108\n",
      "[61.08618935] y 69.524\n",
      "[62.10447851] y 36.236875\n",
      "[60.11484569] y 52.501844827586204\n",
      "[59.25571758] y 56.57712676056338\n",
      "[60.18214395] y 34.7567868852459\n",
      "[59.40477127] y 81.15963636363637\n",
      "[58.56001287] y 177.56373333333335\n",
      "[60.51365041] y 108.77661538461538\n",
      "[60.82002409] y 8.3715\n",
      "[61.17184802] y 194.41034482758621\n",
      "[62.93371354] y 116.50692307692307\n",
      "[57.96407782] y 59.25760869565217\n",
      "[61.83103753] y 52.37053521126761\n",
      "[56.95836927] y 50.73663829787234\n",
      "[58.73977974] y 179.6993006993007\n",
      "[60.20787348] y 45.418414285714285\n",
      "[60.86790738] y 116.06825\n",
      "[56.49842744] y 23.27268656716418\n",
      "[60.91278275] y 65.721805\n",
      "[60.6216424] y 12.180181818181818\n",
      "[59.96953725] y 144.43\n",
      "[59.92557178] y 7.08\n",
      "[61.54153144] y 32.3921875\n",
      "[57.52269474] y 93.5235\n",
      "[60.66260649] y 41.942241379310346\n",
      "[61.72536992] y 42.4002751994496\n",
      "[60.21315926] y 88.01205263157895\n",
      "[60.62080747] y 16.6165\n",
      "[60.1863773] y 44.80197701149425\n",
      "[62.08046775] y 176.30866666666665\n",
      "[57.1541223] y 35.690083333333334\n",
      "[59.96535036] y 127.50636301369863\n",
      "[60.43034262] y 146.261555\n",
      "[62.25141758] y 65.04857142857144\n",
      "[59.99657897] y 86.36933333333333\n",
      "[61.55561612] y 18.646875\n",
      "[60.45428134] y 87.48386440677966\n",
      "[57.48339298] y 100.76066666666667\n",
      "[61.82496125] y 50.76876086956522\n",
      "[60.73004525] y 70.61376923076924\n"
     ]
    }
   ],
   "source": [
    "for i in range(m_train,m):\n",
    "    print(clf3.predict(corrMattDF.values[i,:-1].reshape(1,29)),'y',corrMattDF.values[i,-1])"
   ]
  },
  {
   "cell_type": "code",
   "execution_count": null,
   "metadata": {},
   "outputs": [],
   "source": []
  }
 ],
 "metadata": {
  "kernelspec": {
   "display_name": "Python 3",
   "language": "python",
   "name": "python3"
  },
  "language_info": {
   "codemirror_mode": {
    "name": "ipython",
    "version": 3
   },
   "file_extension": ".py",
   "mimetype": "text/x-python",
   "name": "python",
   "nbconvert_exporter": "python",
   "pygments_lexer": "ipython3",
   "version": "3.6.5"
  }
 },
 "nbformat": 4,
 "nbformat_minor": 2
}
