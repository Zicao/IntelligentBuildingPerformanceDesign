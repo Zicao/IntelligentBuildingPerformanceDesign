{
 "cells": [
  {
   "cell_type": "code",
   "execution_count": 21,
   "metadata": {},
   "outputs": [],
   "source": [
    "import numpy as np\n",
    "import pandas as pd\n",
    "nyc_df=pd.read_csv('C:\\\\Users\\\\tzcha\\Documents\\\\IntelligentBuildingPerformanceDesign\\\\resources\\\\nyc_benchmarking_disclosure_data_reported_in_2017.csv')\n",
    "name_list=list(range(1,28))\n",
    "name_list.append(np.nan)"
   ]
  },
  {
   "cell_type": "code",
   "execution_count": 22,
   "metadata": {},
   "outputs": [],
   "source": [
    "nyc_df=nyc_df.replace(['Office','Medical Office','College/University','Residence Hall/Dormitory','Hospital (General Medical & Surgical)',\\\n",
    "\t\t\t'Mixed Use Property','Multifamily Housing','Worship Facility','Library','Social/Meeting Hall','Retail Store','Bank Branch','Financial Office',\\\n",
    "\t\t\t'Enclosed Mall','K-12 School','Parking','Other - Recreation','Other - Specialty Hospital','Movie Theater','Manufacturing/Industrial Plant',\\\n",
    "\t\t\t'Performing Arts','Senior Care Community','Supermarket/Grocery Store','Other - Entertainment/Public Assembly','Self-Storage Facility','Distribution Center',\\\n",
    "                'Other','Not Available'],name_list)\n",
    "npc_df=nyc_df.replace(r'Whole',1,regex=True)"
   ]
  },
  {
   "cell_type": "code",
   "execution_count": 23,
   "metadata": {},
   "outputs": [
    {
     "name": "stderr",
     "output_type": "stream",
     "text": [
      "C:\\Users\\tzcha\\Anaconda3\\lib\\site-packages\\ipykernel_launcher.py:2: FutureWarning: convert_objects is deprecated.  To re-infer data dtypes for object columns, use DataFrame.infer_objects()\n",
      "For all other conversions use the data-type specific converters pd.to_datetime, pd.to_timedelta and pd.to_numeric.\n",
      "  \n"
     ]
    }
   ],
   "source": [
    "nyc_df=nyc_df[['SourceEUI','Year Built','Occupancy','PAC']].fillna(0)\n",
    "nyc_df=nyc_df.convert_objects(convert_numeric=True)"
   ]
  },
  {
   "cell_type": "code",
   "execution_count": 24,
   "metadata": {},
   "outputs": [
    {
     "name": "stderr",
     "output_type": "stream",
     "text": [
      "C:\\Users\\tzcha\\Anaconda3\\lib\\site-packages\\ipykernel_launcher.py:1: UserWarning: Boolean Series key will be reindexed to match DataFrame index.\n",
      "  \"\"\"Entry point for launching an IPython kernel.\n"
     ]
    },
    {
     "data": {
      "text/plain": [
       "array([[<matplotlib.axes._subplots.AxesSubplot object at 0x000002C69A49D198>]],\n",
       "      dtype=object)"
      ]
     },
     "execution_count": 24,
     "metadata": {},
     "output_type": "execute_result"
    },
    {
     "data": {
      "image/png": "[encoded data removed]",
      "text/plain": [
       "<Figure size 432x288 with 1 Axes>"
      ]
     },
     "metadata": {},
     "output_type": "display_data"
    }
   ],
   "source": [
    "nyc_df2[nyc_df['SourceEUI']>0][nyc_df['SourceEUI']<600].hist(bins=100)"
   ]
  },
  {
   "cell_type": "code",
   "execution_count": 53,
   "metadata": {},
   "outputs": [
    {
     "name": "stdout",
     "output_type": "stream",
     "text": [
      "Please check name of PAC which does not coincide attributes in your database\n",
      "Please check name of Year Built which does not coincide attributes in your database\n",
      "Please check name of Number of Buildings which does not coincide attributes in your database\n",
      "Please check name of Occupancy which does not coincide attributes in your database\n",
      "Please check name of Metered Areas (Energy) which does not coincide attributes in your database\n",
      "Please check name of ENERGY STAR Score which does not coincide attributes in your database\n",
      "Please check name of Site EUI which does not coincide attributes in your database\n",
      "Please check name of Weather Normalized Site EUI (kBtu/ft2) which does not coincide attributes in your database\n",
      "Please check name of Electricity Use - Grid Purchase (kBtu) which does not coincide attributes in your database\n",
      "Please check name of Weather Normalized Site Electricity (kWh) which does not coincide attributes in your database\n",
      "Please check name of Property GFA - Self-Reported (ft2) which does not coincide attributes in your database\n",
      "Please check name of SourceEUI which does not coincide attributes in your database\n",
      "Please check name of PAC which does not coincide attributes in your database\n",
      "Please check name of Year Built which does not coincide attributes in your database\n",
      "Please check name of Number of Buildings which does not coincide attributes in your database\n",
      "Please check name of Occupancy which does not coincide attributes in your database\n",
      "Please check name of Metered Areas (Energy) which does not coincide attributes in your database\n",
      "Please check name of ENERGY STAR Score which does not coincide attributes in your database\n",
      "Please check name of Site EUI which does not coincide attributes in your database\n",
      "Please check name of Weather Normalized Site EUI (kBtu/ft2) which does not coincide attributes in your database\n",
      "Please check name of Electricity Use - Grid Purchase (kBtu) which does not coincide attributes in your database\n",
      "Please check name of Weather Normalized Site Electricity (kWh) which does not coincide attributes in your database\n",
      "Please check name of Property GFA - Self-Reported (ft2) which does not coincide attributes in your database\n",
      "Please check name of SourceEUI which does not coincide attributes in your database\n"
     ]
    },
    {
     "name": "stderr",
     "output_type": "stream",
     "text": [
      "C:\\Users\\tzcha\\Documents\\IntelligentBuildingPerformanceDesign\\AIBPD\\data\\preprocessing.py:246: FutureWarning: convert_objects is deprecated.  To re-infer data dtypes for object columns, use DataFrame.infer_objects()\n",
      "For all other conversions use the data-type specific converters pd.to_datetime, pd.to_timedelta and pd.to_numeric.\n",
      "  return dataDF.convert_objects(convert_numeric=True)\n"
     ]
    }
   ],
   "source": [
    "from IntelligentBuildingPerformanceDesign.AIBPD.data.preprocessing import PreprocessingNYC\n",
    "from IntelligentBuildingPerformanceDesign.AIBPD.data.database import Database\n",
    "database=Database()\n",
    "CBECS_DF=database.select('nyc')\n",
    "preprocessing=PreprocessingNYC(CBECS_DF)\n",
    "CBECS_DF=preprocessing.replaceStrwithNum(CBECS_DF)\n",
    "CBECS_DF=preprocessing.forClf(CBECS_DF)\n",
    "CBECS_DF=CBECS_DF[CBECS_DF['PAC']==1.0]\n",
    "HP=CBECS_DF[CBECS_DF['HEEB']==1.0]\n",
    "MP=CBECS_DF[CBECS_DF['HEEB']==2.0]\n",
    "LP=CBECS_DF[CBECS_DF['HEEB']==3.0]"
   ]
  },
  {
   "cell_type": "code",
   "execution_count": 54,
   "metadata": {},
   "outputs": [],
   "source": [
    "m1=HP.shape[0]\n",
    "m2=MP.shape[0]\n",
    "m3=LP.shape[0]"
   ]
  },
  {
   "cell_type": "code",
   "execution_count": 55,
   "metadata": {},
   "outputs": [
    {
     "data": {
      "text/plain": [
       "<matplotlib.axes._subplots.AxesSubplot at 0x2c69e742d68>"
      ]
     },
     "execution_count": 55,
     "metadata": {},
     "output_type": "execute_result"
    },
    {
     "data": {
      "image/png": "[encoded data removed]",
      "text/plain": [
       "<Figure size 432x288 with 1 Axes>"
      ]
     },
     "metadata": {},
     "output_type": "display_data"
    }
   ],
   "source": [
    "s_HP=HP[HP['Year Built']>1900]['Year Built'].shape[0]\n",
    "HP[HP['Year Built']>1900]['Year Built'].hist(bins=10,density=False,weights= [1./s_HP] * s_HP)"
   ]
  },
  {
   "cell_type": "code",
   "execution_count": 56,
   "metadata": {},
   "outputs": [
    {
     "data": {
      "text/plain": [
       "<matplotlib.axes._subplots.AxesSubplot at 0x2c69cdecd68>"
      ]
     },
     "execution_count": 56,
     "metadata": {},
     "output_type": "execute_result"
    },
    {
     "data": {
      "image/png": "[encoded data removed]",
      "text/plain": [
       "<Figure size 432x288 with 1 Axes>"
      ]
     },
     "metadata": {},
     "output_type": "display_data"
    }
   ],
   "source": [
    "s_MP=MP[MP['Year Built']>1900]['Year Built'].shape[0]\n",
    "MP[MP['Year Built']>1900]['Year Built'].hist(bins=10,density=False,weights= [1./s_MP] * s_MP)"
   ]
  },
  {
   "cell_type": "code",
   "execution_count": 57,
   "metadata": {},
   "outputs": [
    {
     "data": {
      "text/plain": [
       "<matplotlib.axes._subplots.AxesSubplot at 0x2c69d43d9e8>"
      ]
     },
     "execution_count": 57,
     "metadata": {},
     "output_type": "execute_result"
    },
    {
     "data": {
      "image/png": "[encoded data removed]",
      "text/plain": [
       "<Figure size 432x288 with 1 Axes>"
      ]
     },
     "metadata": {},
     "output_type": "display_data"
    }
   ],
   "source": [
    "s_LP=LP[LP['Year Built']>1900]['Year Built'].shape[0]\n",
    "LP[LP['Year Built']>1900]['Year Built'].hist(bins=10,density=False,weights= [1./s_LP] * s_LP)"
   ]
  },
  {
   "cell_type": "code",
   "execution_count": 62,
   "metadata": {},
   "outputs": [
    {
     "data": {
      "text/plain": [
       "array([[<matplotlib.axes._subplots.AxesSubplot object at 0x000002C69E94D588>]],\n",
       "      dtype=object)"
      ]
     },
     "execution_count": 62,
     "metadata": {},
     "output_type": "execute_result"
    },
    {
     "data": {
      "image/png": "[encoded data removed]",
      "text/plain": [
       "<Figure size 432x288 with 1 Axes>"
      ]
     },
     "metadata": {},
     "output_type": "display_data"
    },
    {
     "data": {
      "image/png": "[encoded data removed]",
      "text/plain": [
       "<Figure size 432x288 with 1 Axes>"
      ]
     },
     "metadata": {},
     "output_type": "display_data"
    },
    {
     "data": {
      "image/png": "[encoded data removed]",
      "text/plain": [
       "<Figure size 432x288 with 1 Axes>"
      ]
     },
     "metadata": {},
     "output_type": "display_data"
    }
   ],
   "source": [
    "HP[['Occupancy']].hist(bins=10,density=False,weights= [1./m1] * m1)\n",
    "MP[['Occupancy']].hist(bins=10,histtype='barstacked' ,density=False,weights= [1./m2] * m2)\n",
    "LP[['Occupancy']].hist(bins=10,density=False,weights= [1./m3] * m3)"
   ]
  },
  {
   "cell_type": "code",
   "execution_count": null,
   "metadata": {},
   "outputs": [],
   "source": []
  }
 ],
 "metadata": {
  "kernelspec": {
   "display_name": "Python 3",
   "language": "python",
   "name": "python3"
  },
  "language_info": {
   "codemirror_mode": {
    "name": "ipython",
    "version": 3
   },
   "file_extension": ".py",
   "mimetype": "text/x-python",
   "name": "python",
   "nbconvert_exporter": "python",
   "pygments_lexer": "ipython3",
   "version": "3.6.5"
  }
 },
 "nbformat": 4,
 "nbformat_minor": 2
}
