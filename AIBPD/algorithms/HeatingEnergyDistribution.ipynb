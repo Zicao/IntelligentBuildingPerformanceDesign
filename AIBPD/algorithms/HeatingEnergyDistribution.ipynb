{
 "cells": [
  {
   "cell_type": "code",
   "execution_count": 1,
   "metadata": {},
   "outputs": [
    {
     "name": "stdout",
     "output_type": "stream",
     "text": [
      "Load CBECS2012 successfully\n"
     ]
    }
   ],
   "source": [
    "#Predict whether a building is high performance or not using machine learning algorithms such as desicion tree and svm\n",
    "from IntelligentBuildingPerformanceDesign.AIBPD.data.preprocessing import PreprocessingCBECS\n",
    "from IntelligentBuildingPerformanceDesign.AIBPD.data.database import Database\n",
    "import numpy as np\n",
    "from sklearn import tree\n",
    "import pandas as pd\n",
    "database=Database()\n",
    "CBECS_DF=database.select('CBECS2012')"
   ]
  },
  {
   "cell_type": "code",
   "execution_count": 2,
   "metadata": {},
   "outputs": [
    {
     "name": "stderr",
     "output_type": "stream",
     "text": [
      "C:\\Users\\tzcha\\Documents\\IntelligentBuildingPerformanceDesign\\AIBPD\\data\\preprocessing.py:187: FutureWarning: convert_objects is deprecated.  To re-infer data dtypes for object columns, use DataFrame.infer_objects()\n",
      "For all other conversions use the data-type specific converters pd.to_datetime, pd.to_timedelta and pd.to_numeric.\n",
      "  dataDF=dataDF.convert_objects(convert_numeric=True)\n"
     ]
    },
    {
     "name": "stdout",
     "output_type": "stream",
     "text": [
      "dataDF in preprocessing shape (2406, 717)\n",
      "top10 0.8964705882352941 top25 8.601538461538462 top75 47.029411764705884 top90 84.16501363636364\n"
     ]
    }
   ],
   "source": [
    "CBECS_DF=CBECS_DF[CBECS_DF['climateZone']==1]\n",
    "Preproc=PreprocessingCBECS()\n",
    "CBECS_DF=Preproc.forHEHSClf(CBECS_DF)"
   ]
  },
  {
   "cell_type": "code",
   "execution_count": 3,
   "metadata": {},
   "outputs": [
    {
     "name": "stderr",
     "output_type": "stream",
     "text": [
      "C:\\Users\\tzcha\\Anaconda3\\lib\\site-packages\\ipykernel_launcher.py:1: RuntimeWarning: divide by zero encountered in log2\n",
      "  \"\"\"Entry point for launching an IPython kernel.\n"
     ]
    }
   ],
   "source": [
    "CBECS_DF['EUIHeatingC']=np.log2(CBECS_DF['EUIHeating'])"
   ]
  },
  {
   "cell_type": "code",
   "execution_count": 4,
   "metadata": {},
   "outputs": [
    {
     "name": "stdout",
     "output_type": "stream",
     "text": [
      "-0.1584293626044829 3.1046721312825625 5.5554913822299925 6.395148742161092\n"
     ]
    }
   ],
   "source": [
    "print(np.log2(0.896),np.log2(8.602),np.log2(47.029411764705884),np.log2(84.16501363636364))"
   ]
  },
  {
   "cell_type": "code",
   "execution_count": 5,
   "metadata": {},
   "outputs": [
    {
     "name": "stderr",
     "output_type": "stream",
     "text": [
      "C:\\Users\\tzcha\\Anaconda3\\lib\\site-packages\\numpy\\lib\\function_base.py:780: RuntimeWarning: invalid value encountered in greater_equal\n",
      "  keep = (tmp_a >= first_edge)\n",
      "C:\\Users\\tzcha\\Anaconda3\\lib\\site-packages\\numpy\\lib\\function_base.py:781: RuntimeWarning: invalid value encountered in less_equal\n",
      "  keep &= (tmp_a <= last_edge)\n"
     ]
    }
   ],
   "source": [
    "import matplotlib.pyplot as plt\n",
    "fig_buildingAreaCategory=plt.figure(figsize=(10,6))\n",
    "ax2=fig_buildingAreaCategory.add_subplot(1,1,1)\n",
    "ax2.set_ylabel('Number of buildings')\n",
    "ax2.set_xlabel(r'$EUI_h, [KBTU/ft^2]$')\n",
    "ax2.hist(CBECS_DF['EUIHeating'].values,bins=100,range=(0,350))\n",
    "fig_buildingAreaCategory.savefig(\"EUIheatingdistri.jpg\",dpi=300,bbox_inches='tight')"
   ]
  },
  {
   "cell_type": "code",
   "execution_count": 6,
   "metadata": {},
   "outputs": [
    {
     "name": "stderr",
     "output_type": "stream",
     "text": [
      "C:\\Users\\tzcha\\Anaconda3\\lib\\site-packages\\numpy\\lib\\function_base.py:780: RuntimeWarning: invalid value encountered in greater_equal\n",
      "  keep = (tmp_a >= first_edge)\n",
      "C:\\Users\\tzcha\\Anaconda3\\lib\\site-packages\\numpy\\lib\\function_base.py:781: RuntimeWarning: invalid value encountered in less_equal\n",
      "  keep &= (tmp_a <= last_edge)\n"
     ]
    },
    {
     "data": {
      "image/png": "[encoded data removed]",
      "text/plain": [
       "<Figure size 720x432 with 1 Axes>"
      ]
     },
     "metadata": {},
     "output_type": "display_data"
    }
   ],
   "source": [
    "import matplotlib.lines as mlines\n",
    "fig_buildingAreaCategory=plt.figure(figsize=(10,6))\n",
    "ax2=fig_buildingAreaCategory.add_subplot(1,1,1)\n",
    "ax2.set_ylabel('Number of buildings')\n",
    "ax2.set_xlabel(r'$Log_2(EUI_h)$')#, [Log_2(KBTU/ft^2)]\n",
    "ax2.hist(CBECS_DF['EUIHeatingC'].values,bins=100,range=(-5,10))\n",
    "#line = mlines.Line2D([-0.1584293626044829,-2.5],[30,30], lw=0.2,color='r')\n",
    "#ax2.add_line(line)\n",
    "plt.text(-0.2,41.2, \"10%\",ha=\"right\", family='sans-serif', size=14, color='r')\n",
    "plt.text(3.18,41.2, \"25%\",ha=\"left\", family='sans-serif', size=14, color='r')\n",
    "plt.text(5.5554913822299925,41.2, \"75%\",ha=\"right\", family='sans-serif', size=14, color='y')\n",
    "plt.text(6.395148742161092,41.2, \"90%\",ha=\"left\", family='sans-serif', size=14, color='y')\n",
    "plt.axvline(x=-0.1584293626044829,color='red')\n",
    "plt.axvline(x=3.1046721312825625,color='red')\n",
    "plt.axvline(x=5.5554913822299925 ,color='y')\n",
    "plt.axvline(x=6.395148742161092,color='y')\n",
    "fig_buildingAreaCategory.savefig(\"EUIheatingdistriC.jpg\",dpi=300,bbox_inches='tight')"
   ]
  },
  {
   "cell_type": "code",
   "execution_count": 7,
   "metadata": {
    "scrolled": true
   },
   "outputs": [
    {
     "data": {
      "text/plain": [
       "<matplotlib.axes._subplots.AxesSubplot at 0x207963c7630>"
      ]
     },
     "execution_count": 7,
     "metadata": {},
     "output_type": "execute_result"
    },
    {
     "data": {
      "image/png": "[encoded data removed]",
      "text/plain": [
       "<Figure size 432x288 with 1 Axes>"
      ]
     },
     "metadata": {},
     "output_type": "display_data"
    }
   ],
   "source": [
    "CBECS_DF['EUIHeating'].hist(bins=100)"
   ]
  },
  {
   "cell_type": "code",
   "execution_count": 8,
   "metadata": {},
   "outputs": [
    {
     "name": "stderr",
     "output_type": "stream",
     "text": [
      "C:\\Users\\tzcha\\Anaconda3\\lib\\site-packages\\ipykernel_launcher.py:1: UserWarning: Boolean Series key will be reindexed to match DataFrame index.\n",
      "  \"\"\"Entry point for launching an IPython kernel.\n"
     ]
    }
   ],
   "source": [
    "CBECS_DF=CBECS_DF[CBECS_DF['EUIHeatingC']>=-10][CBECS_DF['EUIHeatingC']<=10]"
   ]
  },
  {
   "cell_type": "code",
   "execution_count": 9,
   "metadata": {},
   "outputs": [
    {
     "data": {
      "text/plain": [
       "<matplotlib.axes._subplots.AxesSubplot at 0x266c95d2940>"
      ]
     },
     "execution_count": 9,
     "metadata": {},
     "output_type": "execute_result"
    },
    {
     "data": {
      "image/png": "[encoded data removed]",
      "text/plain": [
       "<Figure size 432x288 with 1 Axes>"
      ]
     },
     "metadata": {},
     "output_type": "display_data"
    }
   ],
   "source": [
    "CBECS_DF['EUIHeatingC'].hist(bins=100)"
   ]
  },
  {
   "cell_type": "code",
   "execution_count": 10,
   "metadata": {},
   "outputs": [
    {
     "data": {
      "text/plain": [
       "<matplotlib.axes._subplots.AxesSubplot at 0x266c05e3dd8>"
      ]
     },
     "execution_count": 10,
     "metadata": {},
     "output_type": "execute_result"
    },
    {
     "data": {
      "image/png": "[encoded data removed]",
      "text/plain": [
       "<Figure size 432x288 with 1 Axes>"
      ]
     },
     "metadata": {},
     "output_type": "display_data"
    }
   ],
   "source": [
    "CBECS_DF['buildingArea'].hist(bins=100)"
   ]
  },
  {
   "cell_type": "code",
   "execution_count": 11,
   "metadata": {},
   "outputs": [],
   "source": [
    "CBECS_DF['buildingAreaC']=np.log10(CBECS_DF['buildingArea'])"
   ]
  },
  {
   "cell_type": "code",
   "execution_count": 12,
   "metadata": {},
   "outputs": [
    {
     "data": {
      "text/plain": [
       "<matplotlib.axes._subplots.AxesSubplot at 0x266c68b4940>"
      ]
     },
     "execution_count": 12,
     "metadata": {},
     "output_type": "execute_result"
    },
    {
     "data": {
      "image/png": "[encoded data removed]",
      "text/plain": [
       "<Figure size 432x288 with 1 Axes>"
      ]
     },
     "metadata": {},
     "output_type": "display_data"
    }
   ],
   "source": [
    "CBECS_DF['buildingAreaC'].hist(bins=100)"
   ]
  },
  {
   "cell_type": "code",
   "execution_count": 20,
   "metadata": {},
   "outputs": [
    {
     "data": {
      "image/png": "[encoded data removed]",
      "text/plain": [
       "<Figure size 720x432 with 1 Axes>"
      ]
     },
     "metadata": {},
     "output_type": "display_data"
    }
   ],
   "source": [
    "fig_buildingAreaCategory=plt.figure(figsize=(10,6))\n",
    "ax2=fig_buildingAreaCategory.add_subplot(1,1,1)\n",
    "ax2.set_ylabel('Number of buildings')\n",
    "ax2.set_xlabel(r'$Area(ft^2$)')#, [Log_2(KBTU/ft^2)]$Log10(Area)$\n",
    "ax2.hist(CBECS_DF['buildingArea'].values,bins=100)\n",
    "#line = mlines.Line2D([-0.1584293626044829,-2.5],[30,30], lw=0.2,color='r')\n",
    "#ax2.add_line(line)\n",
    "#plt.text(-0.2,41.2, \"10%\",ha=\"right\", family='sans-serif', size=14, color='r')\n",
    "#plt.text(3.18,41.2, \"25%\",ha=\"left\", family='sans-serif', size=14, color='r')\n",
    "#plt.text(5.5554913822299925,41.2, \"75%\",ha=\"right\", family='sans-serif', size=14, color='y')\n",
    "#plt.text(6.395148742161092,41.2, \"90%\",ha=\"left\", family='sans-serif', size=14, color='y')\n",
    "#plt.axvline(x=-0.1584293626044829,color='red')\n",
    "plt.axvline(x=3.86,color='red')\n",
    "#plt.axvline(x=5.5554913822299925 ,color='y')\n",
    "#plt.axvline(x=6.395148742161092,color='y')\n",
    "fig_buildingAreaCategory.savefig(\"buildingArea.jpg\",dpi=300,bbox_inches='tight')"
   ]
  },
  {
   "cell_type": "code",
   "execution_count": 23,
   "metadata": {},
   "outputs": [
    {
     "data": {
      "text/plain": [
       "4.8512583487190755"
      ]
     },
     "execution_count": 23,
     "metadata": {},
     "output_type": "execute_result"
    }
   ],
   "source": [
    "import math\n",
    "math.log10(71000)"
   ]
  },
  {
   "cell_type": "code",
   "execution_count": null,
   "metadata": {},
   "outputs": [],
   "source": []
  }
 ],
 "metadata": {
  "kernelspec": {
   "display_name": "Python 3",
   "language": "python",
   "name": "python3"
  },
  "language_info": {
   "codemirror_mode": {
    "name": "ipython",
    "version": 3
   },
   "file_extension": ".py",
   "mimetype": "text/x-python",
   "name": "python",
   "nbconvert_exporter": "python",
   "pygments_lexer": "ipython3",
   "version": "3.6.5"
  }
 },
 "nbformat": 4,
 "nbformat_minor": 2
}
